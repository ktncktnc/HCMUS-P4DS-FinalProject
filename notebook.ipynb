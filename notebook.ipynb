{
 "cells": [
  {
   "cell_type": "markdown",
   "id": "4a324980",
   "metadata": {
    "toc": true
   },
   "source": [
    "<h1>Table of Contents<span class=\"tocSkip\"></span></h1>\n",
    "<div class=\"toc\"><ul class=\"toc-item\"><li><span><a href=\"#Thu-thập-dữ-liệu\" data-toc-modified-id=\"Thu-thập-dữ-liệu-1\">Thu thập dữ liệu</a></span></li><li><span><a href=\"#Khám-phá-dữ-liệu\" data-toc-modified-id=\"Khám-phá-dữ-liệu-2\">Khám phá dữ liệu</a></span><ul class=\"toc-item\"><li><ul class=\"toc-item\"><li><span><a href=\"#Đọc-dữ-liệu-từ-file-csv\" data-toc-modified-id=\"Đọc-dữ-liệu-từ-file-csv-2.0.1\">Đọc dữ liệu từ file csv</a></span></li><li><span><a href=\"#Dữ-liệu-có-bao-nhiêu-dòng-và-bao-nhiêu-cột?\" data-toc-modified-id=\"Dữ-liệu-có-bao-nhiêu-dòng-và-bao-nhiêu-cột?-2.0.2\">Dữ liệu có bao nhiêu dòng và bao nhiêu cột?</a></span></li><li><span><a href=\"#Mỗi-dòng-có-ý-nghĩa-gì?-Có-vấn-đề-các-dòng-có-ý-nghĩa-khác-nhau-không?\" data-toc-modified-id=\"Mỗi-dòng-có-ý-nghĩa-gì?-Có-vấn-đề-các-dòng-có-ý-nghĩa-khác-nhau-không?-2.0.3\">Mỗi dòng có ý nghĩa gì? Có vấn đề các dòng có ý nghĩa khác nhau không?</a></span></li><li><span><a href=\"#Dữ-liệu-có-các-dòng-bị-lặp-không?\" data-toc-modified-id=\"Dữ-liệu-có-các-dòng-bị-lặp-không?-2.0.4\">Dữ liệu có các dòng bị lặp không?</a></span></li><li><span><a href=\"#Mỗi-cột-dữ-liệu-có-ý-nghĩa:\" data-toc-modified-id=\"Mỗi-cột-dữ-liệu-có-ý-nghĩa:-2.0.5\">Mỗi cột dữ liệu có ý nghĩa:</a></span></li><li><span><a href=\"#Kiểu-dữ-liệu-của-mỗi-cột\" data-toc-modified-id=\"Kiểu-dữ-liệu-của-mỗi-cột-2.0.6\">Kiểu dữ liệu của mỗi cột</a></span><ul class=\"toc-item\"><li><span><a href=\"#Quan-sát-hai-cột-song-và-artist\" data-toc-modified-id=\"Quan-sát-hai-cột-song-và-artist-2.0.6.1\">Quan sát hai cột song và artist</a></span></li></ul></li></ul></li></ul></li><li><span><a href=\"#Tiền-xử-lý\" data-toc-modified-id=\"Tiền-xử-lý-3\">Tiền xử lý</a></span><ul class=\"toc-item\"><li><ul class=\"toc-item\"><li><span><a href=\"#Chuyển-dtype-của-cột-&quot;Date&quot;-sang-datetime\" data-toc-modified-id=\"Chuyển-dtype-của-cột-&quot;Date&quot;-sang-datetime-3.0.1\">Chuyển dtype của cột \"Date\" sang datetime</a></span></li><li><span><a href=\"#Chuyển-dtype-của-cột-last-week-sang-int\" data-toc-modified-id=\"Chuyển-dtype-của-cột-last-week-sang-int-3.0.2\">Chuyển dtype của cột last-week sang int</a></span></li><li><span><a href=\"#Thêm-cột-song_ID-vào-dataframe\" data-toc-modified-id=\"Thêm-cột-song_ID-vào-dataframe-3.0.3\">Thêm cột song_ID vào dataframe</a></span></li></ul></li></ul></li><li><span><a href=\"#Khám-phá-dữ-liệu-(tiếp-tục)\" data-toc-modified-id=\"Khám-phá-dữ-liệu-(tiếp-tục)-4\">Khám phá dữ liệu (tiếp tục)</a></span><ul class=\"toc-item\"><li><ul class=\"toc-item\"><li><span><a href=\"#Với-mỗi-cột-có-kiểu-dữ-liệu-dạng-số-(numerical),-các-giá-trị-được-phân-bố-như-thế-nào?\" data-toc-modified-id=\"Với-mỗi-cột-có-kiểu-dữ-liệu-dạng-số-(numerical),-các-giá-trị-được-phân-bố-như-thế-nào?-4.0.1\">Với mỗi cột có kiểu dữ liệu dạng số (numerical), các giá trị được phân bố như thế nào?</a></span></li><li><span><a href=\"#Khám-phá-cột-date-và-rank\" data-toc-modified-id=\"Khám-phá-cột-date-và-rank-4.0.2\">Khám phá cột date và rank</a></span></li><li><span><a href=\"#Với-mỗi-cột-có-kiểu-dữ-liệu-dạng-phân-loại-(categorical),các-giá-trị-được-phân-bố-như-thế-nào?\" data-toc-modified-id=\"Với-mỗi-cột-có-kiểu-dữ-liệu-dạng-phân-loại-(categorical),các-giá-trị-được-phân-bố-như-thế-nào?-4.0.3\">Với mỗi cột có kiểu dữ liệu dạng phân loại (categorical),các giá trị được phân bố như thế nào?</a></span></li></ul></li></ul></li><li><span><a href=\"#Đưa-ra-câu-hỏi-có-ý-nghĩa-là-câu-trả-lời\" data-toc-modified-id=\"Đưa-ra-câu-hỏi-có-ý-nghĩa-là-câu-trả-lời-5\">Đưa ra câu hỏi có ý nghĩa là câu trả lời</a></span><ul class=\"toc-item\"><li><ul class=\"toc-item\"><li><span><a href=\"#Đưa-ra-câu-hỏi-và-câu-trả-lời:\" data-toc-modified-id=\"Đưa-ra-câu-hỏi-và-câu-trả-lời:-5.0.1\">Đưa ra câu hỏi và câu trả lời:</a></span><ul class=\"toc-item\"><li><span><a href=\"#Câu-1:\" data-toc-modified-id=\"Câu-1:-5.0.1.1\">Câu 1:</a></span></li><li><span><a href=\"#Câu-2\" data-toc-modified-id=\"Câu-2-5.0.1.2\">Câu 2</a></span></li><li><span><a href=\"#Câu-3:\" data-toc-modified-id=\"Câu-3:-5.0.1.3\">Câu 3:</a></span></li><li><span><a href=\"#Câu-4:\" data-toc-modified-id=\"Câu-4:-5.0.1.4\">Câu 4:</a></span></li></ul></li><li><span><a href=\"#Nhìn-lại-quá-trình-làm-đồ-án\" data-toc-modified-id=\"Nhìn-lại-quá-trình-làm-đồ-án-5.0.2\">Nhìn lại quá trình làm đồ án</a></span><ul class=\"toc-item\"><li><span><a href=\"#Khoa\" data-toc-modified-id=\"Khoa-5.0.2.1\">Khoa</a></span></li></ul></li><li><span><a href=\"#Tài-liệu-tham-khảo\" data-toc-modified-id=\"Tài-liệu-tham-khảo-5.0.3\">Tài liệu tham khảo</a></span></li></ul></li></ul></li></ul></div>"
   ]
  },
  {
   "cell_type": "code",
   "execution_count": 1,
   "id": "6552f16e",
   "metadata": {},
   "outputs": [
    {
     "data": {
      "text/plain": [
       "'C:\\\\Users\\\\vietx\\\\anaconda3\\\\python.exe'"
      ]
     },
     "execution_count": 1,
     "metadata": {},
     "output_type": "execute_result"
    }
   ],
   "source": [
    "import sys\n",
    "sys.executable"
   ]
  },
  {
   "cell_type": "code",
   "execution_count": 2,
   "id": "61dd9fc2",
   "metadata": {},
   "outputs": [],
   "source": [
    "import pandas as pd\n",
    "import matplotlib.pyplot as plt\n",
    "import numpy as np"
   ]
  },
  {
   "cell_type": "markdown",
   "id": "042f8a05",
   "metadata": {},
   "source": [
    "# Thu thập dữ liệu"
   ]
  },
  {
   "cell_type": "markdown",
   "id": "4651d67c",
   "metadata": {},
   "source": [
    "- Trong đồ án này, nhóm em chọn bộ dữ liệu [**Billboard \"The Hot 100\" Songs**](https://www.kaggle.com/dhruvildave/billboard-the-hot-100-songs). Đây là bộ dữ liệu ghi lại bảng xếp hạng BillBoard Hot 100 cho các bài hát ở Hoa Kỳ và được đăng tải hàng tuần bởi BillBoard Magazine. Bảng xếp hạng này dựa trên danh số bán đĩa, nghe radio và nghe nhạc thông qua các dịch vụ phát nhạc trực tuyến ở Mỹ.\n",
    "- Bộ dữ liệu này được đăng công khai trên Kaggle với bản quyền [C BY-NC-SA 4.0](https://creativecommons.org/licenses/by-nc-sa/4.0/) miễn phí cho mục đích học tập"
   ]
  },
  {
   "cell_type": "markdown",
   "id": "45f97664",
   "metadata": {},
   "source": [
    "# Khám phá dữ liệu\n",
    "\n",
    "### Đọc dữ liệu từ file csv\n"
   ]
  },
  {
   "cell_type": "code",
   "execution_count": 3,
   "id": "5affefc0",
   "metadata": {},
   "outputs": [
    {
     "data": {
      "text/html": [
       "<div>\n",
       "<style scoped>\n",
       "    .dataframe tbody tr th:only-of-type {\n",
       "        vertical-align: middle;\n",
       "    }\n",
       "\n",
       "    .dataframe tbody tr th {\n",
       "        vertical-align: top;\n",
       "    }\n",
       "\n",
       "    .dataframe thead th {\n",
       "        text-align: right;\n",
       "    }\n",
       "</style>\n",
       "<table border=\"1\" class=\"dataframe\">\n",
       "  <thead>\n",
       "    <tr style=\"text-align: right;\">\n",
       "      <th></th>\n",
       "      <th>date</th>\n",
       "      <th>rank</th>\n",
       "      <th>song</th>\n",
       "      <th>artist</th>\n",
       "      <th>last-week</th>\n",
       "      <th>peak-rank</th>\n",
       "      <th>weeks-on-board</th>\n",
       "    </tr>\n",
       "  </thead>\n",
       "  <tbody>\n",
       "    <tr>\n",
       "      <th>0</th>\n",
       "      <td>2021-11-06</td>\n",
       "      <td>1</td>\n",
       "      <td>Easy On Me</td>\n",
       "      <td>Adele</td>\n",
       "      <td>1.0</td>\n",
       "      <td>1</td>\n",
       "      <td>3</td>\n",
       "    </tr>\n",
       "    <tr>\n",
       "      <th>1</th>\n",
       "      <td>2021-11-06</td>\n",
       "      <td>2</td>\n",
       "      <td>Stay</td>\n",
       "      <td>The Kid LAROI &amp; Justin Bieber</td>\n",
       "      <td>2.0</td>\n",
       "      <td>1</td>\n",
       "      <td>16</td>\n",
       "    </tr>\n",
       "    <tr>\n",
       "      <th>2</th>\n",
       "      <td>2021-11-06</td>\n",
       "      <td>3</td>\n",
       "      <td>Industry Baby</td>\n",
       "      <td>Lil Nas X &amp; Jack Harlow</td>\n",
       "      <td>3.0</td>\n",
       "      <td>1</td>\n",
       "      <td>14</td>\n",
       "    </tr>\n",
       "    <tr>\n",
       "      <th>3</th>\n",
       "      <td>2021-11-06</td>\n",
       "      <td>4</td>\n",
       "      <td>Fancy Like</td>\n",
       "      <td>Walker Hayes</td>\n",
       "      <td>4.0</td>\n",
       "      <td>3</td>\n",
       "      <td>19</td>\n",
       "    </tr>\n",
       "    <tr>\n",
       "      <th>4</th>\n",
       "      <td>2021-11-06</td>\n",
       "      <td>5</td>\n",
       "      <td>Bad Habits</td>\n",
       "      <td>Ed Sheeran</td>\n",
       "      <td>5.0</td>\n",
       "      <td>2</td>\n",
       "      <td>18</td>\n",
       "    </tr>\n",
       "  </tbody>\n",
       "</table>\n",
       "</div>"
      ],
      "text/plain": [
       "         date  rank           song                         artist  last-week  \\\n",
       "0  2021-11-06     1     Easy On Me                          Adele        1.0   \n",
       "1  2021-11-06     2           Stay  The Kid LAROI & Justin Bieber        2.0   \n",
       "2  2021-11-06     3  Industry Baby        Lil Nas X & Jack Harlow        3.0   \n",
       "3  2021-11-06     4     Fancy Like                   Walker Hayes        4.0   \n",
       "4  2021-11-06     5     Bad Habits                     Ed Sheeran        5.0   \n",
       "\n",
       "   peak-rank  weeks-on-board  \n",
       "0          1               3  \n",
       "1          1              16  \n",
       "2          1              14  \n",
       "3          3              19  \n",
       "4          2              18  "
      ]
     },
     "execution_count": 3,
     "metadata": {},
     "output_type": "execute_result"
    }
   ],
   "source": [
    "billboards = pd.read_csv('charts.csv')\n",
    "billboards.head()"
   ]
  },
  {
   "cell_type": "code",
   "execution_count": 4,
   "id": "41167658",
   "metadata": {},
   "outputs": [],
   "source": [
    "# đổi tên các cột có dấu '-' thành dấu '_' để có thể dùng trong câu lệnh query\n",
    "billboards = billboards.rename(columns={'last-week': 'last_week',\n",
    "                                        'peak-rank': 'peak_rank',\n",
    "                                        'weeks-on-board': 'weeks_on_board'})"
   ]
  },
  {
   "cell_type": "markdown",
   "id": "15e392cf",
   "metadata": {},
   "source": [
    "### Dữ liệu có bao nhiêu dòng và bao nhiêu cột?"
   ]
  },
  {
   "cell_type": "code",
   "execution_count": 5,
   "id": "87f4c061",
   "metadata": {},
   "outputs": [
    {
     "data": {
      "text/plain": [
       "(330087, 7)"
      ]
     },
     "execution_count": 5,
     "metadata": {},
     "output_type": "execute_result"
    }
   ],
   "source": [
    "num_rows = len(billboards)\n",
    "num_cols = len(billboards.columns)\n",
    "\n",
    "num_rows, num_cols"
   ]
  },
  {
   "cell_type": "markdown",
   "id": "8cae63ab",
   "metadata": {},
   "source": [
    "### Mỗi dòng có ý nghĩa gì? Có vấn đề các dòng có ý nghĩa khác nhau không?\n",
    "- Mỗi dòng của dữ liệu là thông tin bài hát và các thông số xếp hạng của bài hát trong bảng xếp hạng trong một tuần\n",
    "- Dựa theo dữ liệu ta thấy rằng các dòng không có ý nghĩa khác nhau"
   ]
  },
  {
   "cell_type": "markdown",
   "id": "315bb9b5",
   "metadata": {},
   "source": [
    "### Dữ liệu có các dòng bị lặp không?\n"
   ]
  },
  {
   "cell_type": "code",
   "execution_count": 6,
   "id": "926dab74",
   "metadata": {},
   "outputs": [
    {
     "data": {
      "text/plain": [
       "False"
      ]
     },
     "execution_count": 6,
     "metadata": {},
     "output_type": "execute_result"
    }
   ],
   "source": [
    "duplicated = np.sum(billboards.duplicated()) != 0\n",
    "duplicated"
   ]
  },
  {
   "cell_type": "markdown",
   "id": "82248c35",
   "metadata": {},
   "source": [
    "### Mỗi cột dữ liệu có ý nghĩa:\n",
    "- Date: Ngày bảng xếp hạng tuần của Billboard được công bố\n",
    "- Rank: Thứ hạng của bài hát trên bảng xếp hạng tuần Billboard được công bố vào ngày ở cột đầu tiên.\n",
    "- Song: Tên bài hát được xếp hạng\n",
    "- Artist: Ca sỹ hát bài hát\n",
    "- Last-week: Thứ hạng của bài hát đó trên bảng xếp hạng tuần trước của Billboard.\n",
    "- Peak-rank: Thứ hạng cao nhất của bài hát đó trên tất cả các bảng xếp hạng tuần của Billboard.\n",
    "- Weeks-on-board: số tuần bài hát được xếp hạng trên BXH\n"
   ]
  },
  {
   "cell_type": "markdown",
   "id": "22edf72d",
   "metadata": {},
   "source": [
    "### Kiểu dữ liệu của mỗi cột"
   ]
  },
  {
   "cell_type": "code",
   "execution_count": 7,
   "id": "d9edac7d",
   "metadata": {},
   "outputs": [
    {
     "name": "stdout",
     "output_type": "stream",
     "text": [
      "Kiểu dữ liệu của từng cột:\n",
      "\n",
      "date               object\n",
      "rank                int64\n",
      "song               object\n",
      "artist             object\n",
      "last_week         float64\n",
      "peak_rank           int64\n",
      "weeks_on_board      int64\n",
      "dtype: object\n"
     ]
    }
   ],
   "source": [
    "col_dtypes = billboards.dtypes\n",
    "print(\"Kiểu dữ liệu của từng cột:\\n\")\n",
    "print(col_dtypes)"
   ]
  },
  {
   "cell_type": "markdown",
   "id": "347b7993",
   "metadata": {},
   "source": [
    "Không có thông báo \"Columns ... have mixed types\" nên tất cả các cột đều có chỉ có một kiểu dữ liệu duy nhất.\n",
    "Các cột có kiểu dữ liệu chưa phù hợp:\n",
    "- Cột date đang ở dạng str, chưa phù hợp để xử lý nên ta cần chuyển về kiểu datetime.\n",
    "- Cột last-week nên có dữ liệu là int thay vì float64.\n",
    "- Ta cần kiểm tra xem có các bài hát thuộc các ca sỹ khác nhau nhưng có tên giống nhau hay không?"
   ]
  },
  {
   "cell_type": "markdown",
   "id": "e5e1d30b",
   "metadata": {},
   "source": [
    "#### Quan sát hai cột song và artist"
   ]
  },
  {
   "cell_type": "code",
   "execution_count": 8,
   "id": "86fc5ac5",
   "metadata": {},
   "outputs": [
    {
     "data": {
      "text/plain": [
       "0                                  Easy On Me\n",
       "1                                        Stay\n",
       "2                               Industry Baby\n",
       "3                                  Fancy Like\n",
       "4                                  Bad Habits\n",
       "                         ...                 \n",
       "330065                    The Bird On My Head\n",
       "330067                      Beautiful Delilah\n",
       "330072                            To Be Loved\n",
       "330084                        Little Serenade\n",
       "330085    I'll Get By (As Long As I Have You)\n",
       "Name: song, Length: 24620, dtype: object"
      ]
     },
     "execution_count": 8,
     "metadata": {},
     "output_type": "execute_result"
    }
   ],
   "source": [
    "# Danh sách các bài hát khác nhau (trùng tên khác ca sỹ vẫn tính là 1)\n",
    "billboards['song'].drop_duplicates()"
   ]
  },
  {
   "cell_type": "code",
   "execution_count": 9,
   "id": "816b1a85",
   "metadata": {},
   "outputs": [
    {
     "data": {
      "text/html": [
       "<div>\n",
       "<style scoped>\n",
       "    .dataframe tbody tr th:only-of-type {\n",
       "        vertical-align: middle;\n",
       "    }\n",
       "\n",
       "    .dataframe tbody tr th {\n",
       "        vertical-align: top;\n",
       "    }\n",
       "\n",
       "    .dataframe thead th {\n",
       "        text-align: right;\n",
       "    }\n",
       "</style>\n",
       "<table border=\"1\" class=\"dataframe\">\n",
       "  <thead>\n",
       "    <tr style=\"text-align: right;\">\n",
       "      <th></th>\n",
       "      <th>song</th>\n",
       "      <th>artist</th>\n",
       "    </tr>\n",
       "  </thead>\n",
       "  <tbody>\n",
       "    <tr>\n",
       "      <th>0</th>\n",
       "      <td>Easy On Me</td>\n",
       "      <td>Adele</td>\n",
       "    </tr>\n",
       "    <tr>\n",
       "      <th>1</th>\n",
       "      <td>Stay</td>\n",
       "      <td>The Kid LAROI &amp; Justin Bieber</td>\n",
       "    </tr>\n",
       "    <tr>\n",
       "      <th>2</th>\n",
       "      <td>Industry Baby</td>\n",
       "      <td>Lil Nas X &amp; Jack Harlow</td>\n",
       "    </tr>\n",
       "    <tr>\n",
       "      <th>3</th>\n",
       "      <td>Fancy Like</td>\n",
       "      <td>Walker Hayes</td>\n",
       "    </tr>\n",
       "    <tr>\n",
       "      <th>4</th>\n",
       "      <td>Bad Habits</td>\n",
       "      <td>Ed Sheeran</td>\n",
       "    </tr>\n",
       "    <tr>\n",
       "      <th>...</th>\n",
       "      <td>...</td>\n",
       "      <td>...</td>\n",
       "    </tr>\n",
       "    <tr>\n",
       "      <th>330076</th>\n",
       "      <td>Stay</td>\n",
       "      <td>The Ames Brothers</td>\n",
       "    </tr>\n",
       "    <tr>\n",
       "      <th>330082</th>\n",
       "      <td>Over And Over</td>\n",
       "      <td>Thurston Harris</td>\n",
       "    </tr>\n",
       "    <tr>\n",
       "      <th>330084</th>\n",
       "      <td>Little Serenade</td>\n",
       "      <td>The Ames Brothers</td>\n",
       "    </tr>\n",
       "    <tr>\n",
       "      <th>330085</th>\n",
       "      <td>I'll Get By (As Long As I Have You)</td>\n",
       "      <td>Billy Williams</td>\n",
       "    </tr>\n",
       "    <tr>\n",
       "      <th>330086</th>\n",
       "      <td>Judy</td>\n",
       "      <td>Frankie Vaughan</td>\n",
       "    </tr>\n",
       "  </tbody>\n",
       "</table>\n",
       "<p>29681 rows × 2 columns</p>\n",
       "</div>"
      ],
      "text/plain": [
       "                                       song                         artist\n",
       "0                                Easy On Me                          Adele\n",
       "1                                      Stay  The Kid LAROI & Justin Bieber\n",
       "2                             Industry Baby        Lil Nas X & Jack Harlow\n",
       "3                                Fancy Like                   Walker Hayes\n",
       "4                                Bad Habits                     Ed Sheeran\n",
       "...                                     ...                            ...\n",
       "330076                                 Stay              The Ames Brothers\n",
       "330082                        Over And Over                Thurston Harris\n",
       "330084                      Little Serenade              The Ames Brothers\n",
       "330085  I'll Get By (As Long As I Have You)                 Billy Williams\n",
       "330086                                 Judy                Frankie Vaughan\n",
       "\n",
       "[29681 rows x 2 columns]"
      ]
     },
     "execution_count": 9,
     "metadata": {},
     "output_type": "execute_result"
    }
   ],
   "source": [
    "# Danh sách các bài hát khác nhau (cùng tên nhưng khác ca sỹ vẫn tính khác nhau)\n",
    "billboards[['song', 'artist']].drop_duplicates()"
   ]
  },
  {
   "cell_type": "markdown",
   "id": "e08c3a59",
   "metadata": {},
   "source": [
    "Ta nhận thấy rằng, có tương đối nhiều bài hát tuy có cùng tên với nhau nhưng khác nhau (khác hoàn toàn, hoặc cùng một bài nhưng do nhiều ca sỹ trình bày). Vì vậy, ta cần phải tạo thêm cột song_ID để định dang chính xác cho từng bài hát"
   ]
  },
  {
   "cell_type": "markdown",
   "id": "7d332639",
   "metadata": {},
   "source": [
    "# Tiền xử lý"
   ]
  },
  {
   "cell_type": "markdown",
   "id": "452201a3",
   "metadata": {},
   "source": [
    "### Chuyển dtype của cột \"Date\" sang datetime "
   ]
  },
  {
   "cell_type": "code",
   "execution_count": 10,
   "id": "d7fee53b",
   "metadata": {},
   "outputs": [],
   "source": [
    "billboards['date'] = pd.to_datetime(billboards['date'], format = '%Y-%m-%d')"
   ]
  },
  {
   "cell_type": "markdown",
   "id": "d44535d1",
   "metadata": {},
   "source": [
    "### Chuyển dtype của cột last-week sang int"
   ]
  },
  {
   "cell_type": "markdown",
   "id": "b4da5320",
   "metadata": {},
   "source": [
    "Nhận thấy rằng, khi các bài bát lần đầu tiên lọt vào top 1, cột last_week tại các dòng đó sẽ bằng 0. Ta nên kiểm tra có bao nhiêu dòng có giá trị là nan ở cột này."
   ]
  },
  {
   "cell_type": "code",
   "execution_count": 11,
   "id": "b04c6a30",
   "metadata": {},
   "outputs": [
    {
     "data": {
      "text/plain": [
       "32312"
      ]
     },
     "execution_count": 11,
     "metadata": {},
     "output_type": "execute_result"
    }
   ],
   "source": [
    "len(billboards[billboards['last_week'].isnull()])"
   ]
  },
  {
   "cell_type": "markdown",
   "id": "1375b24b",
   "metadata": {},
   "source": [
    "- Có 32312, xấp xỉ 1/10 số dòng trong dataframe có cột last_week bằng nan.\n",
    "- Mặt khác, vì thứ tự của các bài hát trong BXH có giá trị từ 1 đến 100. Nên ta có thể thay các giá trị nan ở cột last_week bằng 0 để mô tả bài hát đó lần đầu lọt vào BXH."
   ]
  },
  {
   "cell_type": "code",
   "execution_count": 12,
   "id": "9874dfab",
   "metadata": {},
   "outputs": [],
   "source": [
    "billboards['last_week'] = billboards['last_week'].replace(np.nan, 0).astype('int64')"
   ]
  },
  {
   "cell_type": "markdown",
   "id": "1f2be4c6",
   "metadata": {},
   "source": [
    "### Thêm cột song_ID vào dataframe"
   ]
  },
  {
   "cell_type": "code",
   "execution_count": 13,
   "id": "2b2a0745",
   "metadata": {},
   "outputs": [
    {
     "data": {
      "text/html": [
       "<div>\n",
       "<style scoped>\n",
       "    .dataframe tbody tr th:only-of-type {\n",
       "        vertical-align: middle;\n",
       "    }\n",
       "\n",
       "    .dataframe tbody tr th {\n",
       "        vertical-align: top;\n",
       "    }\n",
       "\n",
       "    .dataframe thead th {\n",
       "        text-align: right;\n",
       "    }\n",
       "</style>\n",
       "<table border=\"1\" class=\"dataframe\">\n",
       "  <thead>\n",
       "    <tr style=\"text-align: right;\">\n",
       "      <th></th>\n",
       "      <th>song_ID</th>\n",
       "      <th>song</th>\n",
       "      <th>artist</th>\n",
       "    </tr>\n",
       "  </thead>\n",
       "  <tbody>\n",
       "    <tr>\n",
       "      <th>0</th>\n",
       "      <td>0</td>\n",
       "      <td>Easy On Me</td>\n",
       "      <td>Adele</td>\n",
       "    </tr>\n",
       "    <tr>\n",
       "      <th>1</th>\n",
       "      <td>1</td>\n",
       "      <td>Stay</td>\n",
       "      <td>The Kid LAROI &amp; Justin Bieber</td>\n",
       "    </tr>\n",
       "    <tr>\n",
       "      <th>2</th>\n",
       "      <td>2</td>\n",
       "      <td>Industry Baby</td>\n",
       "      <td>Lil Nas X &amp; Jack Harlow</td>\n",
       "    </tr>\n",
       "    <tr>\n",
       "      <th>3</th>\n",
       "      <td>3</td>\n",
       "      <td>Fancy Like</td>\n",
       "      <td>Walker Hayes</td>\n",
       "    </tr>\n",
       "    <tr>\n",
       "      <th>4</th>\n",
       "      <td>4</td>\n",
       "      <td>Bad Habits</td>\n",
       "      <td>Ed Sheeran</td>\n",
       "    </tr>\n",
       "    <tr>\n",
       "      <th>...</th>\n",
       "      <td>...</td>\n",
       "      <td>...</td>\n",
       "      <td>...</td>\n",
       "    </tr>\n",
       "    <tr>\n",
       "      <th>29676</th>\n",
       "      <td>29676</td>\n",
       "      <td>Stay</td>\n",
       "      <td>The Ames Brothers</td>\n",
       "    </tr>\n",
       "    <tr>\n",
       "      <th>29677</th>\n",
       "      <td>29677</td>\n",
       "      <td>Over And Over</td>\n",
       "      <td>Thurston Harris</td>\n",
       "    </tr>\n",
       "    <tr>\n",
       "      <th>29678</th>\n",
       "      <td>29678</td>\n",
       "      <td>Little Serenade</td>\n",
       "      <td>The Ames Brothers</td>\n",
       "    </tr>\n",
       "    <tr>\n",
       "      <th>29679</th>\n",
       "      <td>29679</td>\n",
       "      <td>I'll Get By (As Long As I Have You)</td>\n",
       "      <td>Billy Williams</td>\n",
       "    </tr>\n",
       "    <tr>\n",
       "      <th>29680</th>\n",
       "      <td>29680</td>\n",
       "      <td>Judy</td>\n",
       "      <td>Frankie Vaughan</td>\n",
       "    </tr>\n",
       "  </tbody>\n",
       "</table>\n",
       "<p>29681 rows × 3 columns</p>\n",
       "</div>"
      ],
      "text/plain": [
       "       song_ID                                 song  \\\n",
       "0            0                           Easy On Me   \n",
       "1            1                                 Stay   \n",
       "2            2                        Industry Baby   \n",
       "3            3                           Fancy Like   \n",
       "4            4                           Bad Habits   \n",
       "...        ...                                  ...   \n",
       "29676    29676                                 Stay   \n",
       "29677    29677                        Over And Over   \n",
       "29678    29678                      Little Serenade   \n",
       "29679    29679  I'll Get By (As Long As I Have You)   \n",
       "29680    29680                                 Judy   \n",
       "\n",
       "                              artist  \n",
       "0                              Adele  \n",
       "1      The Kid LAROI & Justin Bieber  \n",
       "2            Lil Nas X & Jack Harlow  \n",
       "3                       Walker Hayes  \n",
       "4                         Ed Sheeran  \n",
       "...                              ...  \n",
       "29676              The Ames Brothers  \n",
       "29677                Thurston Harris  \n",
       "29678              The Ames Brothers  \n",
       "29679                 Billy Williams  \n",
       "29680                Frankie Vaughan  \n",
       "\n",
       "[29681 rows x 3 columns]"
      ]
     },
     "execution_count": 13,
     "metadata": {},
     "output_type": "execute_result"
    }
   ],
   "source": [
    "songs = pd.DataFrame(data=billboards, columns=['song', 'artist'])\\\n",
    "            .drop_duplicates()\\\n",
    "            .reset_index(drop=True)\\\n",
    "            .reset_index()\\\n",
    "            .rename(columns={'index': 'song_ID'})\n",
    "\n",
    "songs"
   ]
  },
  {
   "cell_type": "code",
   "execution_count": 14,
   "id": "f8b622f9",
   "metadata": {},
   "outputs": [],
   "source": [
    "billboards = pd.merge(songs, billboards, how='inner', on=['song', 'artist'])"
   ]
  },
  {
   "cell_type": "code",
   "execution_count": 15,
   "id": "c5a3f84f",
   "metadata": {},
   "outputs": [
    {
     "data": {
      "text/html": [
       "<div>\n",
       "<style scoped>\n",
       "    .dataframe tbody tr th:only-of-type {\n",
       "        vertical-align: middle;\n",
       "    }\n",
       "\n",
       "    .dataframe tbody tr th {\n",
       "        vertical-align: top;\n",
       "    }\n",
       "\n",
       "    .dataframe thead th {\n",
       "        text-align: right;\n",
       "    }\n",
       "</style>\n",
       "<table border=\"1\" class=\"dataframe\">\n",
       "  <thead>\n",
       "    <tr style=\"text-align: right;\">\n",
       "      <th></th>\n",
       "      <th>song_ID</th>\n",
       "      <th>song</th>\n",
       "      <th>artist</th>\n",
       "      <th>date</th>\n",
       "      <th>rank</th>\n",
       "      <th>last_week</th>\n",
       "      <th>peak_rank</th>\n",
       "      <th>weeks_on_board</th>\n",
       "    </tr>\n",
       "  </thead>\n",
       "  <tbody>\n",
       "    <tr>\n",
       "      <th>0</th>\n",
       "      <td>0</td>\n",
       "      <td>Easy On Me</td>\n",
       "      <td>Adele</td>\n",
       "      <td>2021-11-06</td>\n",
       "      <td>1</td>\n",
       "      <td>1</td>\n",
       "      <td>1</td>\n",
       "      <td>3</td>\n",
       "    </tr>\n",
       "    <tr>\n",
       "      <th>1</th>\n",
       "      <td>0</td>\n",
       "      <td>Easy On Me</td>\n",
       "      <td>Adele</td>\n",
       "      <td>2021-10-30</td>\n",
       "      <td>1</td>\n",
       "      <td>68</td>\n",
       "      <td>1</td>\n",
       "      <td>2</td>\n",
       "    </tr>\n",
       "    <tr>\n",
       "      <th>2</th>\n",
       "      <td>0</td>\n",
       "      <td>Easy On Me</td>\n",
       "      <td>Adele</td>\n",
       "      <td>2021-10-23</td>\n",
       "      <td>68</td>\n",
       "      <td>0</td>\n",
       "      <td>68</td>\n",
       "      <td>1</td>\n",
       "    </tr>\n",
       "    <tr>\n",
       "      <th>3</th>\n",
       "      <td>1</td>\n",
       "      <td>Stay</td>\n",
       "      <td>The Kid LAROI &amp; Justin Bieber</td>\n",
       "      <td>2021-11-06</td>\n",
       "      <td>2</td>\n",
       "      <td>2</td>\n",
       "      <td>1</td>\n",
       "      <td>16</td>\n",
       "    </tr>\n",
       "    <tr>\n",
       "      <th>4</th>\n",
       "      <td>1</td>\n",
       "      <td>Stay</td>\n",
       "      <td>The Kid LAROI &amp; Justin Bieber</td>\n",
       "      <td>2021-10-30</td>\n",
       "      <td>2</td>\n",
       "      <td>2</td>\n",
       "      <td>1</td>\n",
       "      <td>15</td>\n",
       "    </tr>\n",
       "    <tr>\n",
       "      <th>...</th>\n",
       "      <td>...</td>\n",
       "      <td>...</td>\n",
       "      <td>...</td>\n",
       "      <td>...</td>\n",
       "      <td>...</td>\n",
       "      <td>...</td>\n",
       "      <td>...</td>\n",
       "      <td>...</td>\n",
       "    </tr>\n",
       "    <tr>\n",
       "      <th>330082</th>\n",
       "      <td>29676</td>\n",
       "      <td>Stay</td>\n",
       "      <td>The Ames Brothers</td>\n",
       "      <td>1958-08-04</td>\n",
       "      <td>90</td>\n",
       "      <td>0</td>\n",
       "      <td>90</td>\n",
       "      <td>1</td>\n",
       "    </tr>\n",
       "    <tr>\n",
       "      <th>330083</th>\n",
       "      <td>29677</td>\n",
       "      <td>Over And Over</td>\n",
       "      <td>Thurston Harris</td>\n",
       "      <td>1958-08-04</td>\n",
       "      <td>96</td>\n",
       "      <td>0</td>\n",
       "      <td>96</td>\n",
       "      <td>1</td>\n",
       "    </tr>\n",
       "    <tr>\n",
       "      <th>330084</th>\n",
       "      <td>29678</td>\n",
       "      <td>Little Serenade</td>\n",
       "      <td>The Ames Brothers</td>\n",
       "      <td>1958-08-04</td>\n",
       "      <td>98</td>\n",
       "      <td>0</td>\n",
       "      <td>98</td>\n",
       "      <td>1</td>\n",
       "    </tr>\n",
       "    <tr>\n",
       "      <th>330085</th>\n",
       "      <td>29679</td>\n",
       "      <td>I'll Get By (As Long As I Have You)</td>\n",
       "      <td>Billy Williams</td>\n",
       "      <td>1958-08-04</td>\n",
       "      <td>99</td>\n",
       "      <td>0</td>\n",
       "      <td>99</td>\n",
       "      <td>1</td>\n",
       "    </tr>\n",
       "    <tr>\n",
       "      <th>330086</th>\n",
       "      <td>29680</td>\n",
       "      <td>Judy</td>\n",
       "      <td>Frankie Vaughan</td>\n",
       "      <td>1958-08-04</td>\n",
       "      <td>100</td>\n",
       "      <td>0</td>\n",
       "      <td>100</td>\n",
       "      <td>1</td>\n",
       "    </tr>\n",
       "  </tbody>\n",
       "</table>\n",
       "<p>330087 rows × 8 columns</p>\n",
       "</div>"
      ],
      "text/plain": [
       "        song_ID                                 song  \\\n",
       "0             0                           Easy On Me   \n",
       "1             0                           Easy On Me   \n",
       "2             0                           Easy On Me   \n",
       "3             1                                 Stay   \n",
       "4             1                                 Stay   \n",
       "...         ...                                  ...   \n",
       "330082    29676                                 Stay   \n",
       "330083    29677                        Over And Over   \n",
       "330084    29678                      Little Serenade   \n",
       "330085    29679  I'll Get By (As Long As I Have You)   \n",
       "330086    29680                                 Judy   \n",
       "\n",
       "                               artist       date  rank  last_week  peak_rank  \\\n",
       "0                               Adele 2021-11-06     1          1          1   \n",
       "1                               Adele 2021-10-30     1         68          1   \n",
       "2                               Adele 2021-10-23    68          0         68   \n",
       "3       The Kid LAROI & Justin Bieber 2021-11-06     2          2          1   \n",
       "4       The Kid LAROI & Justin Bieber 2021-10-30     2          2          1   \n",
       "...                               ...        ...   ...        ...        ...   \n",
       "330082              The Ames Brothers 1958-08-04    90          0         90   \n",
       "330083                Thurston Harris 1958-08-04    96          0         96   \n",
       "330084              The Ames Brothers 1958-08-04    98          0         98   \n",
       "330085                 Billy Williams 1958-08-04    99          0         99   \n",
       "330086                Frankie Vaughan 1958-08-04   100          0        100   \n",
       "\n",
       "        weeks_on_board  \n",
       "0                    3  \n",
       "1                    2  \n",
       "2                    1  \n",
       "3                   16  \n",
       "4                   15  \n",
       "...                ...  \n",
       "330082               1  \n",
       "330083               1  \n",
       "330084               1  \n",
       "330085               1  \n",
       "330086               1  \n",
       "\n",
       "[330087 rows x 8 columns]"
      ]
     },
     "execution_count": 15,
     "metadata": {},
     "output_type": "execute_result"
    }
   ],
   "source": [
    "billboards"
   ]
  },
  {
   "cell_type": "markdown",
   "id": "2ef0ccee",
   "metadata": {},
   "source": [
    "# Khám phá dữ liệu (tiếp tục)"
   ]
  },
  {
   "cell_type": "markdown",
   "id": "4909ab27",
   "metadata": {},
   "source": [
    "### Với mỗi cột có kiểu dữ liệu dạng số (numerical), các giá trị được phân bố như thế nào?"
   ]
  },
  {
   "cell_type": "code",
   "execution_count": 16,
   "id": "0ecbd3fa",
   "metadata": {},
   "outputs": [],
   "source": [
    "num = ['int16', 'int32', 'int64', 'float16', 'float32', 'float64','complex128', 'datetime64']\n",
    "def missing_ratio(col):\n",
    "    return col.isnull().sum() * 100 / len(col)"
   ]
  },
  {
   "cell_type": "code",
   "execution_count": 17,
   "id": "1b739bed",
   "metadata": {},
   "outputs": [
    {
     "data": {
      "text/plain": [
       "Index(['song_ID', 'date', 'rank', 'last_week', 'peak_rank', 'weeks_on_board'], dtype='object')"
      ]
     },
     "execution_count": 17,
     "metadata": {},
     "output_type": "execute_result"
    }
   ],
   "source": [
    "# Chọn ra các cột có kiểu dữ liệu dạng số\n",
    "cols = billboards.select_dtypes(include=num).keys()\n",
    "cols"
   ]
  },
  {
   "cell_type": "code",
   "execution_count": 18,
   "id": "586d1f13",
   "metadata": {},
   "outputs": [
    {
     "data": {
      "text/html": [
       "<div>\n",
       "<style scoped>\n",
       "    .dataframe tbody tr th:only-of-type {\n",
       "        vertical-align: middle;\n",
       "    }\n",
       "\n",
       "    .dataframe tbody tr th {\n",
       "        vertical-align: top;\n",
       "    }\n",
       "\n",
       "    .dataframe thead th {\n",
       "        text-align: right;\n",
       "    }\n",
       "</style>\n",
       "<table border=\"1\" class=\"dataframe\">\n",
       "  <thead>\n",
       "    <tr style=\"text-align: right;\">\n",
       "      <th></th>\n",
       "      <th>song_ID</th>\n",
       "      <th>date</th>\n",
       "      <th>rank</th>\n",
       "      <th>last_week</th>\n",
       "      <th>peak_rank</th>\n",
       "      <th>weeks_on_board</th>\n",
       "    </tr>\n",
       "  </thead>\n",
       "  <tbody>\n",
       "    <tr>\n",
       "      <th>min</th>\n",
       "      <td>0.0</td>\n",
       "      <td>1958-08-04 00:00:00</td>\n",
       "      <td>1.0</td>\n",
       "      <td>0.0</td>\n",
       "      <td>1.0</td>\n",
       "      <td>1.0</td>\n",
       "    </tr>\n",
       "    <tr>\n",
       "      <th>max</th>\n",
       "      <td>29680.0</td>\n",
       "      <td>2021-11-06 00:00:00</td>\n",
       "      <td>100.0</td>\n",
       "      <td>100.0</td>\n",
       "      <td>100.0</td>\n",
       "      <td>90.0</td>\n",
       "    </tr>\n",
       "    <tr>\n",
       "      <th>missing_ratio</th>\n",
       "      <td>0.0</td>\n",
       "      <td>0.0</td>\n",
       "      <td>0.0</td>\n",
       "      <td>0.0</td>\n",
       "      <td>0.0</td>\n",
       "      <td>0.0</td>\n",
       "    </tr>\n",
       "  </tbody>\n",
       "</table>\n",
       "</div>"
      ],
      "text/plain": [
       "               song_ID                 date   rank  last_week  peak_rank  \\\n",
       "min                0.0  1958-08-04 00:00:00    1.0        0.0        1.0   \n",
       "max            29680.0  2021-11-06 00:00:00  100.0      100.0      100.0   \n",
       "missing_ratio      0.0                  0.0    0.0        0.0        0.0   \n",
       "\n",
       "               weeks_on_board  \n",
       "min                       1.0  \n",
       "max                      90.0  \n",
       "missing_ratio             0.0  "
      ]
     },
     "execution_count": 18,
     "metadata": {},
     "output_type": "execute_result"
    }
   ],
   "source": [
    "nume_col_profiles_df = billboards.agg(['min', 'max', missing_ratio])[cols]\n",
    "\n",
    "nume_col_profiles_df"
   ]
  },
  {
   "cell_type": "markdown",
   "id": "af1235bb",
   "metadata": {},
   "source": [
    "Không có gì bất thường với các giá trị min, max, missing_ratio của các cột.\n",
    "\n",
    "Ta có thể kiểm chứng giá trị max của weeks-on-board bằng cách tìm trên google bài hát có mặt trên BXH Billboard 90 tuần. Sau khi tra cứu, ta thấy bài hát đó chính là \"Blinding Light\" và chính thức rút khỏi BXH vào tháng 9/2021. Khá hợp lý khi BXH của ta có tuần cuối cùng được thống kê vào tháng 11/2021."
   ]
  },
  {
   "cell_type": "markdown",
   "id": "ab979a34",
   "metadata": {},
   "source": [
    "### Khám phá cột date và rank"
   ]
  },
  {
   "cell_type": "markdown",
   "id": "8a2f3bbe",
   "metadata": {},
   "source": [
    "Với các giá trị ở cột date, ta biết được thời gian đầu tiên BXH được công bố là vào ngày 04/08/1958 và ngày cuối cùng là 06/11/2021. Nếu theo thông thường, cứ mỗi tuần sẽ có 100 dòng dữ liệu ứng với 100 thứ tự trên bảng xếp hạng. Từ đó tập dữ liệu của ta sẽ cần phải có 3301 x 100 = 330100 dòng. Ở cột rank, mỗi giá trị sẽ có 3301 lần xuất hiện."
   ]
  },
  {
   "cell_type": "code",
   "execution_count": 19,
   "id": "5723a4bb",
   "metadata": {},
   "outputs": [
    {
     "name": "stdout",
     "output_type": "stream",
     "text": [
      "Số dòng: 330087\n",
      "81    3303\n",
      "18    3303\n",
      "50    3302\n",
      "58    3302\n",
      "74    3302\n",
      "      ... \n",
      "82    3299\n",
      "35    3299\n",
      "49    3299\n",
      "13    3298\n",
      "19    3297\n",
      "Name: rank, Length: 100, dtype: int64\n"
     ]
    }
   ],
   "source": [
    "print(\"Số dòng: \" + str(num_rows))\n",
    "print(billboards['rank'].value_counts())"
   ]
  },
  {
   "cell_type": "markdown",
   "id": "ba3851f8",
   "metadata": {},
   "source": [
    "Tuy nhiên, qua tìm hiểu, ta thấy rằng tập dữ liệu không có đủ số dòng như ta mong muốn. Và hơn nữa, số lần xuất hiện của các giá trị là chênh lệch nhau nhiều hay ít hơn.\n",
    "\n",
    "Để thử tìm hiểu nguyên nhân, ta lọc ra các bài hát có rank là 81."
   ]
  },
  {
   "cell_type": "code",
   "execution_count": 20,
   "id": "7e72cb13",
   "metadata": {},
   "outputs": [
    {
     "data": {
      "text/html": [
       "<div>\n",
       "<style scoped>\n",
       "    .dataframe tbody tr th:only-of-type {\n",
       "        vertical-align: middle;\n",
       "    }\n",
       "\n",
       "    .dataframe tbody tr th {\n",
       "        vertical-align: top;\n",
       "    }\n",
       "\n",
       "    .dataframe thead th {\n",
       "        text-align: right;\n",
       "    }\n",
       "</style>\n",
       "<table border=\"1\" class=\"dataframe\">\n",
       "  <thead>\n",
       "    <tr style=\"text-align: right;\">\n",
       "      <th></th>\n",
       "      <th>song_ID</th>\n",
       "      <th>song</th>\n",
       "      <th>artist</th>\n",
       "      <th>date</th>\n",
       "      <th>rank</th>\n",
       "      <th>last_week</th>\n",
       "      <th>peak_rank</th>\n",
       "      <th>weeks_on_board</th>\n",
       "    </tr>\n",
       "  </thead>\n",
       "  <tbody>\n",
       "    <tr>\n",
       "      <th>256</th>\n",
       "      <td>14</td>\n",
       "      <td>Cold Heart (PNAU Remix)</td>\n",
       "      <td>Elton John &amp; Dua Lipa</td>\n",
       "      <td>2021-08-28</td>\n",
       "      <td>81</td>\n",
       "      <td>0</td>\n",
       "      <td>81</td>\n",
       "      <td>1</td>\n",
       "    </tr>\n",
       "    <tr>\n",
       "      <th>448</th>\n",
       "      <td>29</td>\n",
       "      <td>Pepas</td>\n",
       "      <td>Farruko</td>\n",
       "      <td>2021-08-07</td>\n",
       "      <td>81</td>\n",
       "      <td>0</td>\n",
       "      <td>81</td>\n",
       "      <td>1</td>\n",
       "    </tr>\n",
       "    <tr>\n",
       "      <th>562</th>\n",
       "      <td>40</td>\n",
       "      <td>You Should Probably Leave</td>\n",
       "      <td>Chris Stapleton</td>\n",
       "      <td>2021-10-09</td>\n",
       "      <td>81</td>\n",
       "      <td>83</td>\n",
       "      <td>63</td>\n",
       "      <td>13</td>\n",
       "    </tr>\n",
       "    <tr>\n",
       "      <th>614</th>\n",
       "      <td>42</td>\n",
       "      <td>Thinking 'Bout You</td>\n",
       "      <td>Dustin Lynch Featuring Lauren Alaina Or MacKen...</td>\n",
       "      <td>2021-10-02</td>\n",
       "      <td>81</td>\n",
       "      <td>91</td>\n",
       "      <td>81</td>\n",
       "      <td>6</td>\n",
       "    </tr>\n",
       "    <tr>\n",
       "      <th>729</th>\n",
       "      <td>53</td>\n",
       "      <td>My Boy</td>\n",
       "      <td>Elvie Shane</td>\n",
       "      <td>2021-09-04</td>\n",
       "      <td>81</td>\n",
       "      <td>70</td>\n",
       "      <td>70</td>\n",
       "      <td>9</td>\n",
       "    </tr>\n",
       "    <tr>\n",
       "      <th>...</th>\n",
       "      <td>...</td>\n",
       "      <td>...</td>\n",
       "      <td>...</td>\n",
       "      <td>...</td>\n",
       "      <td>...</td>\n",
       "      <td>...</td>\n",
       "      <td>...</td>\n",
       "      <td>...</td>\n",
       "    </tr>\n",
       "    <tr>\n",
       "      <th>329977</th>\n",
       "      <td>29620</td>\n",
       "      <td>Prisoner's Song</td>\n",
       "      <td>Warren Storm</td>\n",
       "      <td>1958-08-25</td>\n",
       "      <td>81</td>\n",
       "      <td>0</td>\n",
       "      <td>81</td>\n",
       "      <td>1</td>\n",
       "    </tr>\n",
       "    <tr>\n",
       "      <th>330002</th>\n",
       "      <td>29630</td>\n",
       "      <td>The Purple People Eater</td>\n",
       "      <td>Sheb Wooley</td>\n",
       "      <td>1958-08-18</td>\n",
       "      <td>81</td>\n",
       "      <td>47</td>\n",
       "      <td>24</td>\n",
       "      <td>3</td>\n",
       "    </tr>\n",
       "    <tr>\n",
       "      <th>330055</th>\n",
       "      <td>29654</td>\n",
       "      <td>Young And Warm And Wonderful</td>\n",
       "      <td>Tony Bennett</td>\n",
       "      <td>1958-08-11</td>\n",
       "      <td>81</td>\n",
       "      <td>59</td>\n",
       "      <td>59</td>\n",
       "      <td>2</td>\n",
       "    </tr>\n",
       "    <tr>\n",
       "      <th>330057</th>\n",
       "      <td>29655</td>\n",
       "      <td>Looking Back</td>\n",
       "      <td>Nat King Cole</td>\n",
       "      <td>1958-08-11</td>\n",
       "      <td>81</td>\n",
       "      <td>0</td>\n",
       "      <td>81</td>\n",
       "      <td>1</td>\n",
       "    </tr>\n",
       "    <tr>\n",
       "      <th>330079</th>\n",
       "      <td>29673</td>\n",
       "      <td>Beautiful Delilah</td>\n",
       "      <td>Chuck Berry</td>\n",
       "      <td>1958-08-04</td>\n",
       "      <td>81</td>\n",
       "      <td>0</td>\n",
       "      <td>81</td>\n",
       "      <td>1</td>\n",
       "    </tr>\n",
       "  </tbody>\n",
       "</table>\n",
       "<p>3303 rows × 8 columns</p>\n",
       "</div>"
      ],
      "text/plain": [
       "        song_ID                          song  \\\n",
       "256          14       Cold Heart (PNAU Remix)   \n",
       "448          29                         Pepas   \n",
       "562          40     You Should Probably Leave   \n",
       "614          42            Thinking 'Bout You   \n",
       "729          53                        My Boy   \n",
       "...         ...                           ...   \n",
       "329977    29620               Prisoner's Song   \n",
       "330002    29630       The Purple People Eater   \n",
       "330055    29654  Young And Warm And Wonderful   \n",
       "330057    29655                  Looking Back   \n",
       "330079    29673             Beautiful Delilah   \n",
       "\n",
       "                                                   artist       date  rank  \\\n",
       "256                                 Elton John & Dua Lipa 2021-08-28    81   \n",
       "448                                               Farruko 2021-08-07    81   \n",
       "562                                       Chris Stapleton 2021-10-09    81   \n",
       "614     Dustin Lynch Featuring Lauren Alaina Or MacKen... 2021-10-02    81   \n",
       "729                                           Elvie Shane 2021-09-04    81   \n",
       "...                                                   ...        ...   ...   \n",
       "329977                                       Warren Storm 1958-08-25    81   \n",
       "330002                                        Sheb Wooley 1958-08-18    81   \n",
       "330055                                       Tony Bennett 1958-08-11    81   \n",
       "330057                                      Nat King Cole 1958-08-11    81   \n",
       "330079                                        Chuck Berry 1958-08-04    81   \n",
       "\n",
       "        last_week  peak_rank  weeks_on_board  \n",
       "256             0         81               1  \n",
       "448             0         81               1  \n",
       "562            83         63              13  \n",
       "614            91         81               6  \n",
       "729            70         70               9  \n",
       "...           ...        ...             ...  \n",
       "329977          0         81               1  \n",
       "330002         47         24               3  \n",
       "330055         59         59               2  \n",
       "330057          0         81               1  \n",
       "330079          0         81               1  \n",
       "\n",
       "[3303 rows x 8 columns]"
      ]
     },
     "execution_count": 20,
     "metadata": {},
     "output_type": "execute_result"
    }
   ],
   "source": [
    "billboards[billboards['rank'] == 81]"
   ]
  },
  {
   "cell_type": "markdown",
   "id": "00463934",
   "metadata": {},
   "source": [
    "Tìm số lượng giá trị ngày khác nhau."
   ]
  },
  {
   "cell_type": "code",
   "execution_count": 21,
   "id": "e296ab5f",
   "metadata": {},
   "outputs": [
    {
     "data": {
      "text/plain": [
       "3301"
      ]
     },
     "execution_count": 21,
     "metadata": {},
     "output_type": "execute_result"
    }
   ],
   "source": [
    "len(set(billboards[billboards['rank'] == 81]['date']))"
   ]
  },
  {
   "cell_type": "markdown",
   "id": "3c3e8108",
   "metadata": {},
   "source": [
    "Như vậy, ta thấy rằng sẽ có các bài hát có cùng rank với nhau ở cùng một thời điểm. Ta có thể dự đoán được rằng sẽ có các bài hát bằng điểm nhau và nằm cùng một vị trí trong BXH. Nhìn vào Dataframe, ta thấy vào ngày 1958-08-11 có 2 bài hát \"Young And Warm And Wonderful\" và \"Looking Back\" có cùng thứ hạng 81. Để chắc chắn hơn dự đoán của ta, ta nên lấy ra BXH vào ngày 1958-08-11."
   ]
  },
  {
   "cell_type": "code",
   "execution_count": 22,
   "id": "b40d6d35",
   "metadata": {},
   "outputs": [
    {
     "name": "stdout",
     "output_type": "stream",
     "text": [
      "{1, 2, 3, 4, 5, 6, 7, 8, 9, 11, 12, 13, 14, 15, 16, 17, 18, 19, 20, 21, 22, 23, 24, 25, 26, 27, 28, 29, 30, 31, 32, 33, 34, 35, 36, 37, 38, 39, 40, 41, 42, 43, 44, 45, 46, 47, 48, 49, 50, 51, 52, 53, 54, 55, 56, 57, 58, 59, 60, 61, 62, 63, 64, 65, 66, 67, 68, 69, 70, 71, 72, 73, 74, 75, 76, 77, 78, 79, 80, 81, 83, 84, 85, 86, 87, 88, 89, 90, 91, 92, 93, 94, 95, 96, 97, 98, 99, 100}\n"
     ]
    }
   ],
   "source": [
    "print(set(billboards[billboards['date'] == '1958-08-11']['rank']))"
   ]
  },
  {
   "cell_type": "markdown",
   "id": "dd266fa5",
   "metadata": {},
   "source": [
    "Ta thấy rằng không có thứ hạng 82 trong BXH. Vì vậy dự đoán của ta là đúng."
   ]
  },
  {
   "cell_type": "markdown",
   "id": "803e8f7a",
   "metadata": {},
   "source": [
    "### Với mỗi cột có kiểu dữ liệu dạng phân loại (categorical),các giá trị được phân bố như thế nào?"
   ]
  },
  {
   "cell_type": "markdown",
   "id": "c2b82715",
   "metadata": {},
   "source": [
    "Với tập dữ liệu này, các cột còn lại (song, artist) là các cột thuộc kiểu dữ liệu phân loại. Vì ta vừa thêm vào dataframe cột song_ID nên ta có thể giữ in 2 cột song và artist ở dạng string và vẫn xử lý được như thường."
   ]
  },
  {
   "cell_type": "code",
   "execution_count": 23,
   "id": "9c8fbe5c",
   "metadata": {},
   "outputs": [
    {
     "data": {
      "text/html": [
       "<div>\n",
       "<style scoped>\n",
       "    .dataframe tbody tr th:only-of-type {\n",
       "        vertical-align: middle;\n",
       "    }\n",
       "\n",
       "    .dataframe tbody tr th {\n",
       "        vertical-align: top;\n",
       "    }\n",
       "\n",
       "    .dataframe thead th {\n",
       "        text-align: right;\n",
       "    }\n",
       "</style>\n",
       "<table border=\"1\" class=\"dataframe\">\n",
       "  <thead>\n",
       "    <tr style=\"text-align: right;\">\n",
       "      <th></th>\n",
       "      <th>song</th>\n",
       "      <th>artist</th>\n",
       "    </tr>\n",
       "  </thead>\n",
       "  <tbody>\n",
       "    <tr>\n",
       "      <th>missing_ratio</th>\n",
       "      <td>0.0</td>\n",
       "      <td>0.0</td>\n",
       "    </tr>\n",
       "    <tr>\n",
       "      <th>num_diff_vals</th>\n",
       "      <td>24620</td>\n",
       "      <td>10205</td>\n",
       "    </tr>\n",
       "    <tr>\n",
       "      <th>diff_vals</th>\n",
       "      <td>[Easy On Me, Stay, Industry Baby, Fancy Like, ...</td>\n",
       "      <td>[Adele, The Kid LAROI &amp; Justin Bieber, Lil Nas...</td>\n",
       "    </tr>\n",
       "  </tbody>\n",
       "</table>\n",
       "</div>"
      ],
      "text/plain": [
       "                                                            song  \\\n",
       "missing_ratio                                                0.0   \n",
       "num_diff_vals                                              24620   \n",
       "diff_vals      [Easy On Me, Stay, Industry Baby, Fancy Like, ...   \n",
       "\n",
       "                                                          artist  \n",
       "missing_ratio                                                0.0  \n",
       "num_diff_vals                                              10205  \n",
       "diff_vals      [Adele, The Kid LAROI & Justin Bieber, Lil Nas...  "
      ]
     },
     "execution_count": 23,
     "metadata": {},
     "output_type": "execute_result"
    }
   ],
   "source": [
    "cat_cols = list(set(billboards.columns) - set(cols))\n",
    "\n",
    "def num_diff_vals(col):\n",
    "    return len(col.dropna().unique())\n",
    "\n",
    "def diff_vals(col):\n",
    "    return col.dropna().unique()\n",
    "\n",
    "cat_col_profiles_df = billboards.agg([missing_ratio, num_diff_vals, diff_vals])[cat_cols]\n",
    "\n",
    "cat_col_profiles_df"
   ]
  },
  {
   "cell_type": "markdown",
   "id": "3d85b10c",
   "metadata": {},
   "source": [
    "Ta thấy rằng không có gì quá bất thường. Mising ratio bằng 0 là hoàn hảo. Mặt khác, một ca sỹ có thể có nhiều bài hát nên việc số lượng bài hát nhiều hơn gấp hơn 2 lần so với số lượng ca sỹ là bình thường."
   ]
  },
  {
   "cell_type": "markdown",
   "id": "45d51294",
   "metadata": {},
   "source": [
    "# Đưa ra câu hỏi có ý nghĩa là câu trả lời\n"
   ]
  },
  {
   "cell_type": "markdown",
   "id": "fa48ac01",
   "metadata": {},
   "source": [
    "### Đưa ra câu hỏi và câu trả lời:"
   ]
  },
  {
   "cell_type": "markdown",
   "id": "11c01b75",
   "metadata": {},
   "source": [
    "#### Câu 1:\n",
    "Với mỗi tháng có bao nhiêu bài hát mới chưa xuất hiện trong BXH thuộc các tuần trước đó?"
   ]
  },
  {
   "cell_type": "markdown",
   "id": "081b5540",
   "metadata": {},
   "source": [
    "##### Ý nghĩa: \n",
    "- Để có thể biết được trong mỗi tháng có bao nhiêu bài hát trụ lại được ở BXH và bao nhiêu bài bứt phá để vào được BXH\n",
    "- Cũng có thể biết được tháng này có bao nhiêu bài hát mới ra mắt vì thông thường các bài mới ra mắt sẽ được chú ý nhiều và sẽ có khả năng cao vào BXH"
   ]
  },
  {
   "cell_type": "markdown",
   "id": "08de96db",
   "metadata": {},
   "source": [
    "##### Trả lời:\n",
    "- Ta sẽ lọc ra các dòng mà có last_week=0 (nghĩa là chưa từng xuất hiện trong BXH)\n",
    "- Sau khi lọc ra thì sẽ groupby theo year và month để đếm số lượng bài hát mới theo ID\n",
    "- Vì dữ liệu bắt đầu từ tháng 8 năm 1958 và kết thúc vào tháng 11 năm 2021 nên các tháng trước đó của năm 1958 và tháng 12 của năm 2021 sẽ có giá trị là NaN"
   ]
  },
  {
   "cell_type": "markdown",
   "id": "9ef79a20",
   "metadata": {},
   "source": [
    "**Tiền xử lý**:\n",
    "Thêm cột month và year ứng với cột date vào dataframe"
   ]
  },
  {
   "cell_type": "code",
   "execution_count": 24,
   "id": "b4aa7125",
   "metadata": {},
   "outputs": [],
   "source": [
    "billboards['month'] = pd.DatetimeIndex(billboards['date']).month\n",
    "billboards['year'] = pd.DatetimeIndex(billboards['date']).year"
   ]
  },
  {
   "cell_type": "code",
   "execution_count": 25,
   "id": "c8f1ba8c",
   "metadata": {
    "scrolled": true
   },
   "outputs": [
    {
     "data": {
      "text/html": [
       "<div>\n",
       "<style scoped>\n",
       "    .dataframe tbody tr th:only-of-type {\n",
       "        vertical-align: middle;\n",
       "    }\n",
       "\n",
       "    .dataframe tbody tr th {\n",
       "        vertical-align: top;\n",
       "    }\n",
       "\n",
       "    .dataframe thead th {\n",
       "        text-align: right;\n",
       "    }\n",
       "</style>\n",
       "<table border=\"1\" class=\"dataframe\">\n",
       "  <thead>\n",
       "    <tr style=\"text-align: right;\">\n",
       "      <th></th>\n",
       "      <th>1958</th>\n",
       "      <th>1959</th>\n",
       "      <th>1960</th>\n",
       "      <th>1961</th>\n",
       "      <th>1962</th>\n",
       "      <th>1963</th>\n",
       "      <th>1964</th>\n",
       "      <th>1965</th>\n",
       "      <th>1966</th>\n",
       "      <th>1967</th>\n",
       "      <th>...</th>\n",
       "      <th>2012</th>\n",
       "      <th>2013</th>\n",
       "      <th>2014</th>\n",
       "      <th>2015</th>\n",
       "      <th>2016</th>\n",
       "      <th>2017</th>\n",
       "      <th>2018</th>\n",
       "      <th>2019</th>\n",
       "      <th>2020</th>\n",
       "      <th>2021</th>\n",
       "    </tr>\n",
       "  </thead>\n",
       "  <tbody>\n",
       "    <tr>\n",
       "      <th>1</th>\n",
       "      <td>NaN</td>\n",
       "      <td>55</td>\n",
       "      <td>36</td>\n",
       "      <td>66</td>\n",
       "      <td>50</td>\n",
       "      <td>50</td>\n",
       "      <td>69</td>\n",
       "      <td>42</td>\n",
       "      <td>55</td>\n",
       "      <td>50</td>\n",
       "      <td>...</td>\n",
       "      <td>70</td>\n",
       "      <td>56</td>\n",
       "      <td>66</td>\n",
       "      <td>56</td>\n",
       "      <td>55</td>\n",
       "      <td>78</td>\n",
       "      <td>50</td>\n",
       "      <td>51</td>\n",
       "      <td>76</td>\n",
       "      <td>116</td>\n",
       "    </tr>\n",
       "    <tr>\n",
       "      <th>2</th>\n",
       "      <td>NaN</td>\n",
       "      <td>61</td>\n",
       "      <td>60</td>\n",
       "      <td>75</td>\n",
       "      <td>54</td>\n",
       "      <td>59</td>\n",
       "      <td>71</td>\n",
       "      <td>59</td>\n",
       "      <td>68</td>\n",
       "      <td>59</td>\n",
       "      <td>...</td>\n",
       "      <td>70</td>\n",
       "      <td>49</td>\n",
       "      <td>60</td>\n",
       "      <td>70</td>\n",
       "      <td>54</td>\n",
       "      <td>46</td>\n",
       "      <td>55</td>\n",
       "      <td>62</td>\n",
       "      <td>56</td>\n",
       "      <td>42</td>\n",
       "    </tr>\n",
       "    <tr>\n",
       "      <th>3</th>\n",
       "      <td>NaN</td>\n",
       "      <td>78</td>\n",
       "      <td>51</td>\n",
       "      <td>46</td>\n",
       "      <td>74</td>\n",
       "      <td>51</td>\n",
       "      <td>51</td>\n",
       "      <td>68</td>\n",
       "      <td>51</td>\n",
       "      <td>53</td>\n",
       "      <td>...</td>\n",
       "      <td>39</td>\n",
       "      <td>40</td>\n",
       "      <td>44</td>\n",
       "      <td>31</td>\n",
       "      <td>43</td>\n",
       "      <td>48</td>\n",
       "      <td>34</td>\n",
       "      <td>39</td>\n",
       "      <td>53</td>\n",
       "      <td>36</td>\n",
       "    </tr>\n",
       "    <tr>\n",
       "      <th>4</th>\n",
       "      <td>NaN</td>\n",
       "      <td>40</td>\n",
       "      <td>40</td>\n",
       "      <td>42</td>\n",
       "      <td>39</td>\n",
       "      <td>51</td>\n",
       "      <td>40</td>\n",
       "      <td>36</td>\n",
       "      <td>46</td>\n",
       "      <td>51</td>\n",
       "      <td>...</td>\n",
       "      <td>36</td>\n",
       "      <td>39</td>\n",
       "      <td>40</td>\n",
       "      <td>48</td>\n",
       "      <td>45</td>\n",
       "      <td>34</td>\n",
       "      <td>41</td>\n",
       "      <td>36</td>\n",
       "      <td>35</td>\n",
       "      <td>60</td>\n",
       "    </tr>\n",
       "    <tr>\n",
       "      <th>5</th>\n",
       "      <td>NaN</td>\n",
       "      <td>44</td>\n",
       "      <td>42</td>\n",
       "      <td>40</td>\n",
       "      <td>39</td>\n",
       "      <td>29</td>\n",
       "      <td>42</td>\n",
       "      <td>42</td>\n",
       "      <td>37</td>\n",
       "      <td>47</td>\n",
       "      <td>...</td>\n",
       "      <td>39</td>\n",
       "      <td>39</td>\n",
       "      <td>36</td>\n",
       "      <td>36</td>\n",
       "      <td>45</td>\n",
       "      <td>30</td>\n",
       "      <td>35</td>\n",
       "      <td>37</td>\n",
       "      <td>40</td>\n",
       "      <td>74</td>\n",
       "    </tr>\n",
       "    <tr>\n",
       "      <th>6</th>\n",
       "      <td>NaN</td>\n",
       "      <td>31</td>\n",
       "      <td>35</td>\n",
       "      <td>27</td>\n",
       "      <td>30</td>\n",
       "      <td>42</td>\n",
       "      <td>28</td>\n",
       "      <td>40</td>\n",
       "      <td>34</td>\n",
       "      <td>33</td>\n",
       "      <td>...</td>\n",
       "      <td>34</td>\n",
       "      <td>33</td>\n",
       "      <td>33</td>\n",
       "      <td>35</td>\n",
       "      <td>32</td>\n",
       "      <td>43</td>\n",
       "      <td>31</td>\n",
       "      <td>31</td>\n",
       "      <td>29</td>\n",
       "      <td>66</td>\n",
       "    </tr>\n",
       "    <tr>\n",
       "      <th>7</th>\n",
       "      <td>NaN</td>\n",
       "      <td>27</td>\n",
       "      <td>31</td>\n",
       "      <td>35</td>\n",
       "      <td>37</td>\n",
       "      <td>29</td>\n",
       "      <td>40</td>\n",
       "      <td>25</td>\n",
       "      <td>32</td>\n",
       "      <td>31</td>\n",
       "      <td>...</td>\n",
       "      <td>22</td>\n",
       "      <td>33</td>\n",
       "      <td>29</td>\n",
       "      <td>22</td>\n",
       "      <td>33</td>\n",
       "      <td>28</td>\n",
       "      <td>25</td>\n",
       "      <td>19</td>\n",
       "      <td>29</td>\n",
       "      <td>76</td>\n",
       "    </tr>\n",
       "    <tr>\n",
       "      <th>8</th>\n",
       "      <td>158</td>\n",
       "      <td>27</td>\n",
       "      <td>36</td>\n",
       "      <td>21</td>\n",
       "      <td>31</td>\n",
       "      <td>28</td>\n",
       "      <td>29</td>\n",
       "      <td>33</td>\n",
       "      <td>32</td>\n",
       "      <td>25</td>\n",
       "      <td>...</td>\n",
       "      <td>22</td>\n",
       "      <td>28</td>\n",
       "      <td>32</td>\n",
       "      <td>25</td>\n",
       "      <td>25</td>\n",
       "      <td>32</td>\n",
       "      <td>27</td>\n",
       "      <td>30</td>\n",
       "      <td>35</td>\n",
       "      <td>53</td>\n",
       "    </tr>\n",
       "    <tr>\n",
       "      <th>9</th>\n",
       "      <td>70</td>\n",
       "      <td>23</td>\n",
       "      <td>25</td>\n",
       "      <td>23</td>\n",
       "      <td>29</td>\n",
       "      <td>27</td>\n",
       "      <td>22</td>\n",
       "      <td>22</td>\n",
       "      <td>36</td>\n",
       "      <td>27</td>\n",
       "      <td>...</td>\n",
       "      <td>32</td>\n",
       "      <td>28</td>\n",
       "      <td>22</td>\n",
       "      <td>27</td>\n",
       "      <td>40</td>\n",
       "      <td>31</td>\n",
       "      <td>37</td>\n",
       "      <td>24</td>\n",
       "      <td>28</td>\n",
       "      <td>80</td>\n",
       "    </tr>\n",
       "    <tr>\n",
       "      <th>10</th>\n",
       "      <td>43</td>\n",
       "      <td>38</td>\n",
       "      <td>31</td>\n",
       "      <td>26</td>\n",
       "      <td>42</td>\n",
       "      <td>33</td>\n",
       "      <td>41</td>\n",
       "      <td>30</td>\n",
       "      <td>34</td>\n",
       "      <td>30</td>\n",
       "      <td>...</td>\n",
       "      <td>55</td>\n",
       "      <td>43</td>\n",
       "      <td>39</td>\n",
       "      <td>42</td>\n",
       "      <td>38</td>\n",
       "      <td>55</td>\n",
       "      <td>63</td>\n",
       "      <td>52</td>\n",
       "      <td>30</td>\n",
       "      <td>77</td>\n",
       "    </tr>\n",
       "    <tr>\n",
       "      <th>11</th>\n",
       "      <td>45</td>\n",
       "      <td>29</td>\n",
       "      <td>74</td>\n",
       "      <td>65</td>\n",
       "      <td>46</td>\n",
       "      <td>51</td>\n",
       "      <td>40</td>\n",
       "      <td>55</td>\n",
       "      <td>54</td>\n",
       "      <td>51</td>\n",
       "      <td>...</td>\n",
       "      <td>38</td>\n",
       "      <td>44</td>\n",
       "      <td>34</td>\n",
       "      <td>42</td>\n",
       "      <td>34</td>\n",
       "      <td>33</td>\n",
       "      <td>40</td>\n",
       "      <td>33</td>\n",
       "      <td>52</td>\n",
       "      <td>14</td>\n",
       "    </tr>\n",
       "    <tr>\n",
       "      <th>12</th>\n",
       "      <td>66</td>\n",
       "      <td>36</td>\n",
       "      <td>53</td>\n",
       "      <td>42</td>\n",
       "      <td>38</td>\n",
       "      <td>38</td>\n",
       "      <td>46</td>\n",
       "      <td>65</td>\n",
       "      <td>37</td>\n",
       "      <td>39</td>\n",
       "      <td>...</td>\n",
       "      <td>63</td>\n",
       "      <td>95</td>\n",
       "      <td>57</td>\n",
       "      <td>60</td>\n",
       "      <td>64</td>\n",
       "      <td>40</td>\n",
       "      <td>70</td>\n",
       "      <td>63</td>\n",
       "      <td>95</td>\n",
       "      <td>NaN</td>\n",
       "    </tr>\n",
       "  </tbody>\n",
       "</table>\n",
       "<p>12 rows × 64 columns</p>\n",
       "</div>"
      ],
      "text/plain": [
       "   1958 1959 1960 1961 1962 1963 1964 1965 1966 1967  ... 2012 2013 2014 2015  \\\n",
       "1   NaN   55   36   66   50   50   69   42   55   50  ...   70   56   66   56   \n",
       "2   NaN   61   60   75   54   59   71   59   68   59  ...   70   49   60   70   \n",
       "3   NaN   78   51   46   74   51   51   68   51   53  ...   39   40   44   31   \n",
       "4   NaN   40   40   42   39   51   40   36   46   51  ...   36   39   40   48   \n",
       "5   NaN   44   42   40   39   29   42   42   37   47  ...   39   39   36   36   \n",
       "6   NaN   31   35   27   30   42   28   40   34   33  ...   34   33   33   35   \n",
       "7   NaN   27   31   35   37   29   40   25   32   31  ...   22   33   29   22   \n",
       "8   158   27   36   21   31   28   29   33   32   25  ...   22   28   32   25   \n",
       "9    70   23   25   23   29   27   22   22   36   27  ...   32   28   22   27   \n",
       "10   43   38   31   26   42   33   41   30   34   30  ...   55   43   39   42   \n",
       "11   45   29   74   65   46   51   40   55   54   51  ...   38   44   34   42   \n",
       "12   66   36   53   42   38   38   46   65   37   39  ...   63   95   57   60   \n",
       "\n",
       "   2016 2017 2018 2019 2020 2021  \n",
       "1    55   78   50   51   76  116  \n",
       "2    54   46   55   62   56   42  \n",
       "3    43   48   34   39   53   36  \n",
       "4    45   34   41   36   35   60  \n",
       "5    45   30   35   37   40   74  \n",
       "6    32   43   31   31   29   66  \n",
       "7    33   28   25   19   29   76  \n",
       "8    25   32   27   30   35   53  \n",
       "9    40   31   37   24   28   80  \n",
       "10   38   55   63   52   30   77  \n",
       "11   34   33   40   33   52   14  \n",
       "12   64   40   70   63   95  NaN  \n",
       "\n",
       "[12 rows x 64 columns]"
      ]
     },
     "execution_count": 25,
     "metadata": {},
     "output_type": "execute_result"
    }
   ],
   "source": [
    "df = billboards[billboards['last_week']==0].groupby(['year', 'month'])['song_ID'].count()\n",
    "\n",
    "# lấy ra list các năm có trong dataframe\n",
    "years = list(set(billboards['year']))\n",
    "months = np.arange(1,13)\n",
    "\n",
    "# tạo một dataframe kết quả với các cột là các năm các index là các tháng trong năm\n",
    "new_songs_in_months = pd.DataFrame(index=months, columns=years) \n",
    "\n",
    "# vì năm đầu tiên bắt đầu từ tháng 8 nên sẽ gán 5 tháng trong năm đó là\n",
    "# 5 giá trị đầu tiên trong df.values\n",
    "new_songs_in_months[years[0]][-5:] = df.values[:5] \n",
    "\n",
    "# reshape df.values thành (12,) để gán vào các\n",
    "# năm ở giữa\n",
    "new_songs_in_months[years[1:-1]] = df.values[5:-11].reshape(12,len(years)-2) \n",
    "\n",
    "# năm cuối cùng có dữ liệu tới tháng 11 nên sẽ gán bằng 11 giá trị\n",
    "# cuối cùng trong df.values\n",
    "new_songs_in_months[years[-1]][:-1] = df.values[-11:] \n",
    "\n",
    "new_songs_in_months"
   ]
  },
  {
   "cell_type": "markdown",
   "id": "2c4a48bd",
   "metadata": {},
   "source": [
    "- Bảng số liệu trên có cột là năm, dòng là tháng và ứng với mỗi cột và dòng là số bài hát mới lọt vào BXH trong tháng và năm đó\n",
    "- Vì biểu diễn dữ liệu dưới dạng dataframe như trên khá khó nhìn nên em sẽ vẽ biểu đồ cho 5 năm gần đây nhất, với mỗi đường ứng với một năm, trục hoành là tháng và trục tung là số bài hát mới lọt vào BXH"
   ]
  },
  {
   "cell_type": "code",
   "execution_count": 26,
   "id": "9bc0d538",
   "metadata": {
    "scrolled": false
   },
   "outputs": [
    {
     "data": {
      "image/png": "[encoded data removed]",
      "text/plain": [
       "<Figure size 432x288 with 1 Axes>"
      ]
     },
     "metadata": {
      "needs_background": "light"
     },
     "output_type": "display_data"
    }
   ],
   "source": [
    "for i in years[-5:]:\n",
    "    plt.plot(months, new_songs_in_months[i].values, label=i, marker='o')\n",
    "plt.xlabel('Month')\n",
    "plt.ylabel('NumNewSongs')\n",
    "plt.legend();"
   ]
  },
  {
   "cell_type": "markdown",
   "id": "9463c503",
   "metadata": {},
   "source": [
    "**Nhận xét**:\n",
    "- Ngoại trừ năm 2021 thì các năm còn lại có số lượng bài hát mới lọt vào BXH trong cùng thời điểm có vẻ khá giống nhau (đồ thị khá tương đồng nhau)\n",
    "- Và có thể thấy rằng tháng đầu năm và cuối năm có số lượng bài hát mới lọt vào BXH cao nhất trong một năm"
   ]
  },
  {
   "cell_type": "markdown",
   "id": "8c1636bb",
   "metadata": {},
   "source": [
    "#### Câu 2\n",
    "Tìm số lượng bài hát lọt vào BXH Billboard của các ca sỹ thuộc danh sách cho trước (VD: gồm Taylot Swift, Drake, Ed Sheeran). Từ đó vẽ đồ thị và rút ra nhận xét."
   ]
  },
  {
   "cell_type": "markdown",
   "id": "82ff655a",
   "metadata": {},
   "source": [
    "\n",
    "##### Ý nghĩa: \n",
    "- Ta sẽ biết được các ca sỹ nổi tiếng theo từng năm và trào lưu thay đổi như nào qua các năm. \n",
    "- Ngoài ra ta còn hiểu được các ca sỹ sẽ giữ được độ nổi tiếng như thế nào qua mỗi năm.\n",
    "- Dựa vào vào kết quả, ta còn có thể phần nào đoán được mức độ hoạt động của các ca sỹ trong từng năm."
   ]
  },
  {
   "cell_type": "markdown",
   "id": "30d29529",
   "metadata": {},
   "source": [
    "##### Phân tích:\n",
    "- Ở mỗi năm, một bài hát có thể xuất hiện nhiều lần trên BXH\n",
    "- Ta nên sắp xếp số lượng bài hát theo một thứ tự để dễ dàng quan sát hơn.\n",
    "- Cột month, year đã được thêm vào dataframe từ câu 1 nên ta không cần phải thao tác lại.\n",
    "\n",
    "##### Câu trả lời:\n",
    "- Tiến hành đếm số bài hát trên BXH của một ca sỹ trong mỗi năm.\n",
    "- Sắp xếp số lượng bài hát theo thứ tự giảm dần trong mỗi năm.\n",
    "- Lọc ra các ca sỹ trong danh sách."
   ]
  },
  {
   "cell_type": "code",
   "execution_count": 27,
   "id": "136d8542",
   "metadata": {},
   "outputs": [],
   "source": [
    "# Danh sách các ca sỹ cần tìm\n",
    "artist = ['Taylor Swift', 'Drake', 'Ed Sheeran']"
   ]
  },
  {
   "cell_type": "code",
   "execution_count": 28,
   "id": "07011ae0",
   "metadata": {},
   "outputs": [],
   "source": [
    "# Đếm số bài hát trên BXH của từng ca sỹ trong mỗi năm\n",
    "artist_song_count_yearly = billboards[['year', 'song', 'artist']].groupby(['year', 'artist']).nunique().reset_index()\n",
    "\n",
    "# Sắp xếp theo thứ tự giảm dần\n",
    "top_3_artist_song_count_yearly = artist_song_count_yearly.sort_values('song', ascending = False).sort_values('year')"
   ]
  },
  {
   "cell_type": "code",
   "execution_count": 29,
   "id": "40aec68d",
   "metadata": {},
   "outputs": [
    {
     "data": {
      "text/html": [
       "<div>\n",
       "<style scoped>\n",
       "    .dataframe tbody tr th:only-of-type {\n",
       "        vertical-align: middle;\n",
       "    }\n",
       "\n",
       "    .dataframe tbody tr th {\n",
       "        vertical-align: top;\n",
       "    }\n",
       "\n",
       "    .dataframe thead th {\n",
       "        text-align: right;\n",
       "    }\n",
       "</style>\n",
       "<table border=\"1\" class=\"dataframe\">\n",
       "  <thead>\n",
       "    <tr style=\"text-align: right;\">\n",
       "      <th></th>\n",
       "      <th>year</th>\n",
       "      <th>artist</th>\n",
       "      <th>song</th>\n",
       "    </tr>\n",
       "  </thead>\n",
       "  <tbody>\n",
       "    <tr>\n",
       "      <th>16753</th>\n",
       "      <td>2006</td>\n",
       "      <td>Taylor Swift</td>\n",
       "      <td>1</td>\n",
       "    </tr>\n",
       "    <tr>\n",
       "      <th>17081</th>\n",
       "      <td>2007</td>\n",
       "      <td>Taylor Swift</td>\n",
       "      <td>3</td>\n",
       "    </tr>\n",
       "    <tr>\n",
       "      <th>17438</th>\n",
       "      <td>2008</td>\n",
       "      <td>Taylor Swift</td>\n",
       "      <td>14</td>\n",
       "    </tr>\n",
       "    <tr>\n",
       "      <th>17778</th>\n",
       "      <td>2009</td>\n",
       "      <td>Taylor Swift</td>\n",
       "      <td>13</td>\n",
       "    </tr>\n",
       "    <tr>\n",
       "      <th>17561</th>\n",
       "      <td>2009</td>\n",
       "      <td>Drake</td>\n",
       "      <td>1</td>\n",
       "    </tr>\n",
       "    <tr>\n",
       "      <th>17907</th>\n",
       "      <td>2010</td>\n",
       "      <td>Drake</td>\n",
       "      <td>3</td>\n",
       "    </tr>\n",
       "    <tr>\n",
       "      <th>18134</th>\n",
       "      <td>2010</td>\n",
       "      <td>Taylor Swift</td>\n",
       "      <td>19</td>\n",
       "    </tr>\n",
       "    <tr>\n",
       "      <th>18505</th>\n",
       "      <td>2011</td>\n",
       "      <td>Taylor Swift</td>\n",
       "      <td>9</td>\n",
       "    </tr>\n",
       "    <tr>\n",
       "      <th>18280</th>\n",
       "      <td>2011</td>\n",
       "      <td>Drake</td>\n",
       "      <td>4</td>\n",
       "    </tr>\n",
       "    <tr>\n",
       "      <th>18644</th>\n",
       "      <td>2012</td>\n",
       "      <td>Ed Sheeran</td>\n",
       "      <td>1</td>\n",
       "    </tr>\n",
       "  </tbody>\n",
       "</table>\n",
       "</div>"
      ],
      "text/plain": [
       "       year        artist  song\n",
       "16753  2006  Taylor Swift     1\n",
       "17081  2007  Taylor Swift     3\n",
       "17438  2008  Taylor Swift    14\n",
       "17778  2009  Taylor Swift    13\n",
       "17561  2009         Drake     1\n",
       "17907  2010         Drake     3\n",
       "18134  2010  Taylor Swift    19\n",
       "18505  2011  Taylor Swift     9\n",
       "18280  2011         Drake     4\n",
       "18644  2012    Ed Sheeran     1"
      ]
     },
     "execution_count": 29,
     "metadata": {},
     "output_type": "execute_result"
    }
   ],
   "source": [
    "# Lọc ra các ca sỹ cho trước\n",
    "s_top_3_artist_song_count_yearly = top_3_artist_song_count_yearly[top_3_artist_song_count_yearly['artist'].isin(artist)]\n",
    "s_top_3_artist_song_count_yearly[:10]"
   ]
  },
  {
   "cell_type": "code",
   "execution_count": 30,
   "id": "2270cc1a",
   "metadata": {},
   "outputs": [
    {
     "data": {
      "image/png": "[encoded data removed]",
      "text/plain": [
       "<Figure size 936x576 with 1 Axes>"
      ]
     },
     "metadata": {
      "needs_background": "light"
     },
     "output_type": "display_data"
    }
   ],
   "source": [
    "# Vẽ đồ thị\n",
    "s_top_3_artist_song_count_yearly.pivot('year', 'artist', 'song').plot(figsize=(13,8));"
   ]
  },
  {
   "cell_type": "markdown",
   "id": "09349597",
   "metadata": {},
   "source": [
    "##### **Nhận xét**:\n",
    "- Qua đồ thị trên, ta thấy rằng Taylor Swift là ca sỹ giữ phong độ tương đối ổn định và có số bài hát lọt top khá nhiều. Tuy nhiên, kể từ năm 2010, số bài hát lọt top có xu hướng giảm (có thể do Taylor không còn nổi như xưa). Nhưng đến năm 2020 thì số bài hát lọt top tăng chóng mặt có thể do Taylor đã hoạt động trở lại, bùng nổ hơn.\n",
    "- Ca nhạc sỹ Ed Sheeran tuy không phải là một người có số bài hát lọt top nhiều nhưng tương đối ổn định. Riêng năm 2016 không thấy bài hát nào lọt top. Có thể trong năm này, Ed Sheeran đã nghỉ ngơi sau một khoảng thời gian làm việc liên tục.\n",
    "- Tương tự với Drake khi anh ấy có lượng bài hát lọt vào top tương đối ổn định trong các năm gần đây."
   ]
  },
  {
   "cell_type": "markdown",
   "id": "c48cb8d9",
   "metadata": {},
   "source": [
    "#### Câu 3:\n",
    "\n",
    "Sắp xếp các bài hát có số tuần liên tiếp đạt top 1 theo thứ tự giảm dần"
   ]
  },
  {
   "cell_type": "markdown",
   "id": "878ad1f9",
   "metadata": {},
   "source": [
    "##### Ý nghĩa: \n",
    "Để biết được những bài hát nào có sức ảnh hưởng lớn và liên tục trong một khoảng thời gian dài"
   ]
  },
  {
   "cell_type": "markdown",
   "id": "b375f82b",
   "metadata": {},
   "source": [
    "##### Trả lời:\n",
    "- Ta sẽ lọc ra các dòng có rank=1 và last_week=1 (nghĩa là được top 1 liên tiếp)\n",
    "- Sau đó groupby theo ID để đếm số tuần top 1 liên tiếp, nhưng phải cộng thêm 1 vì tuần đầu tiên được top 1 sẽ có last_week!=1\n",
    "- Tiếp theo sẽ merge với dataframe songs (danh sách các bài hát có trong dataframe billboards) để lấy ra tên và ca sĩ trình bày bài hát\n",
    "- Cuối cùng là sắp xếp các bài hát theo thứ tự giảm dần số tuần đạt top 1 liên tiếp trên BXH"
   ]
  },
  {
   "cell_type": "code",
   "execution_count": 31,
   "id": "7f8e5888",
   "metadata": {
    "code_folding": []
   },
   "outputs": [
    {
     "data": {
      "text/html": [
       "<div>\n",
       "<style scoped>\n",
       "    .dataframe tbody tr th:only-of-type {\n",
       "        vertical-align: middle;\n",
       "    }\n",
       "\n",
       "    .dataframe tbody tr th {\n",
       "        vertical-align: top;\n",
       "    }\n",
       "\n",
       "    .dataframe thead th {\n",
       "        text-align: right;\n",
       "    }\n",
       "</style>\n",
       "<table border=\"1\" class=\"dataframe\">\n",
       "  <thead>\n",
       "    <tr style=\"text-align: right;\">\n",
       "      <th></th>\n",
       "      <th>song_ID</th>\n",
       "      <th>weeks</th>\n",
       "      <th>song</th>\n",
       "      <th>artist</th>\n",
       "    </tr>\n",
       "  </thead>\n",
       "  <tbody>\n",
       "    <tr>\n",
       "      <th>0</th>\n",
       "      <td>1332</td>\n",
       "      <td>19</td>\n",
       "      <td>Old Town Road</td>\n",
       "      <td>Lil Nas X Featuring Billy Ray Cyrus</td>\n",
       "    </tr>\n",
       "    <tr>\n",
       "      <th>1</th>\n",
       "      <td>2432</td>\n",
       "      <td>16</td>\n",
       "      <td>Despacito</td>\n",
       "      <td>Luis Fonsi &amp; Daddy Yankee Featuring Justin Bieber</td>\n",
       "    </tr>\n",
       "    <tr>\n",
       "      <th>2</th>\n",
       "      <td>10367</td>\n",
       "      <td>16</td>\n",
       "      <td>One Sweet Day</td>\n",
       "      <td>Mariah Carey &amp; Boyz II Men</td>\n",
       "    </tr>\n",
       "    <tr>\n",
       "      <th>3</th>\n",
       "      <td>4758</td>\n",
       "      <td>14</td>\n",
       "      <td>I Will Always Love You</td>\n",
       "      <td>Whitney Houston</td>\n",
       "    </tr>\n",
       "    <tr>\n",
       "      <th>4</th>\n",
       "      <td>10153</td>\n",
       "      <td>14</td>\n",
       "      <td>Macarena (Bayside Boys Mix)</td>\n",
       "      <td>Los Del Rio</td>\n",
       "    </tr>\n",
       "    <tr>\n",
       "      <th>...</th>\n",
       "      <td>...</td>\n",
       "      <td>...</td>\n",
       "      <td>...</td>\n",
       "      <td>...</td>\n",
       "    </tr>\n",
       "    <tr>\n",
       "      <th>704</th>\n",
       "      <td>14338</td>\n",
       "      <td>2</td>\n",
       "      <td>Everything She Wants</td>\n",
       "      <td>Wham!</td>\n",
       "    </tr>\n",
       "    <tr>\n",
       "      <th>705</th>\n",
       "      <td>14318</td>\n",
       "      <td>2</td>\n",
       "      <td>Everybody Wants To Rule The World</td>\n",
       "      <td>Tears For Fears</td>\n",
       "    </tr>\n",
       "    <tr>\n",
       "      <th>706</th>\n",
       "      <td>14312</td>\n",
       "      <td>2</td>\n",
       "      <td>Heaven</td>\n",
       "      <td>Bryan Adams</td>\n",
       "    </tr>\n",
       "    <tr>\n",
       "      <th>707</th>\n",
       "      <td>14297</td>\n",
       "      <td>2</td>\n",
       "      <td>A View To A Kill</td>\n",
       "      <td>Duran Duran</td>\n",
       "    </tr>\n",
       "    <tr>\n",
       "      <th>708</th>\n",
       "      <td>29542</td>\n",
       "      <td>2</td>\n",
       "      <td>Poor Little Fool</td>\n",
       "      <td>Ricky Nelson</td>\n",
       "    </tr>\n",
       "  </tbody>\n",
       "</table>\n",
       "<p>709 rows × 4 columns</p>\n",
       "</div>"
      ],
      "text/plain": [
       "     song_ID  weeks                               song  \\\n",
       "0       1332     19                      Old Town Road   \n",
       "1       2432     16                          Despacito   \n",
       "2      10367     16                      One Sweet Day   \n",
       "3       4758     14             I Will Always Love You   \n",
       "4      10153     14        Macarena (Bayside Boys Mix)   \n",
       "..       ...    ...                                ...   \n",
       "704    14338      2               Everything She Wants   \n",
       "705    14318      2  Everybody Wants To Rule The World   \n",
       "706    14312      2                             Heaven   \n",
       "707    14297      2                   A View To A Kill   \n",
       "708    29542      2                   Poor Little Fool   \n",
       "\n",
       "                                                artist  \n",
       "0                  Lil Nas X Featuring Billy Ray Cyrus  \n",
       "1    Luis Fonsi & Daddy Yankee Featuring Justin Bieber  \n",
       "2                           Mariah Carey & Boyz II Men  \n",
       "3                                      Whitney Houston  \n",
       "4                                          Los Del Rio  \n",
       "..                                                 ...  \n",
       "704                                              Wham!  \n",
       "705                                    Tears For Fears  \n",
       "706                                        Bryan Adams  \n",
       "707                                        Duran Duran  \n",
       "708                                       Ricky Nelson  \n",
       "\n",
       "[709 rows x 4 columns]"
      ]
     },
     "execution_count": 31,
     "metadata": {},
     "output_type": "execute_result"
    }
   ],
   "source": [
    "df = billboards.query('rank==1 and last_week==1').groupby('song_ID')['date'].count() + 1\n",
    "\n",
    "songs_consecutive_week_top1 = pd.DataFrame(data=df.values, index=df.index, columns=['weeks'])\\\n",
    "                                .reset_index()\\\n",
    "                                .merge(songs, how='inner', on='song_ID')\\\n",
    "                                .sort_values(by='weeks', ascending=False)\\\n",
    "                                .reset_index(drop=True)\n",
    "\n",
    "songs_consecutive_week_top1"
   ]
  },
  {
   "cell_type": "markdown",
   "id": "ed3d22ce",
   "metadata": {},
   "source": [
    "##### Nhận xét:\n",
    "\n",
    "Kết quả thu được hoàn toàn hợp lý khi mà ta thấy rằng trong kết quả thì các bài hát đứng đầu danh sách như **Old Town Road**, **Despacito**, **One Sweet Day** đều là những bài hát rất hot trong thời điểm ra mắt và có sức ảnh hưởng lớn trên thế giới."
   ]
  },
  {
   "cell_type": "markdown",
   "id": "146aa66b",
   "metadata": {},
   "source": [
    "#### Câu 4:\n",
    "Sắp xếp các bài hát theo thứ tự giảm dần thời gian vào top 1 nhanh nhất kể từ lúc bắt đầu có mặt ở BXH."
   ]
  },
  {
   "cell_type": "markdown",
   "id": "66e9c3d2",
   "metadata": {},
   "source": [
    "##### Ý nghĩa:\n",
    "Ta sẽ biết được độ hot, tốc độ phủ sóng của các bài hát đó. Tốc độ phủ sóng của các bài hát ở các thập kỷ trước khi internet chưa phát triển có thể thấp hơn so với gần đây?"
   ]
  },
  {
   "cell_type": "markdown",
   "id": "8fb155f6",
   "metadata": {},
   "source": [
    "##### Câu trả lời:\n",
    "- Ta cần tìm ra thời điểm đầu tiên các bài hát lọt vào top 1\n",
    "- Ta cũng phải tìm ra đường thời điểm đầu tiên các bài hát lọt vào BXH\n",
    "- Sau đó tính khoảng cách giữa 2 thời điểm với mỗi bài hát"
   ]
  },
  {
   "cell_type": "code",
   "execution_count": 32,
   "id": "73145599",
   "metadata": {},
   "outputs": [],
   "source": [
    "# Thời điểm đạt top 1 xa nhất\n",
    "first_top_1 = billboards.loc[billboards['rank'] == 1].groupby('song_ID').agg('last').reset_index().sort_values('song_ID')\n",
    "\n",
    "# Thời điểm đầu tiên vào BXH\n",
    "first_on_board = billboards.groupby('song_ID').agg('last').reset_index()\n",
    "first_on_board = first_on_board.loc[first_on_board['song_ID'].isin(first_top_1['song_ID'])].sort_values('song_ID').reset_index(drop=True)"
   ]
  },
  {
   "cell_type": "code",
   "execution_count": 33,
   "id": "0399b9b4",
   "metadata": {},
   "outputs": [],
   "source": [
    "# Khoảng cách giữa 2 thời điểm\n",
    "first_top_1['time_to_top_1'] = first_top_1['date'] - first_on_board['date']\n",
    "first_top_1.sort_values('time_to_top_1', inplace = True)"
   ]
  },
  {
   "cell_type": "code",
   "execution_count": 34,
   "id": "58c19e64",
   "metadata": {},
   "outputs": [
    {
     "data": {
      "text/html": [
       "<div>\n",
       "<style scoped>\n",
       "    .dataframe tbody tr th:only-of-type {\n",
       "        vertical-align: middle;\n",
       "    }\n",
       "\n",
       "    .dataframe tbody tr th {\n",
       "        vertical-align: top;\n",
       "    }\n",
       "\n",
       "    .dataframe thead th {\n",
       "        text-align: right;\n",
       "    }\n",
       "</style>\n",
       "<table border=\"1\" class=\"dataframe\">\n",
       "  <thead>\n",
       "    <tr style=\"text-align: right;\">\n",
       "      <th></th>\n",
       "      <th>song_ID</th>\n",
       "      <th>song</th>\n",
       "      <th>artist</th>\n",
       "      <th>date</th>\n",
       "      <th>rank</th>\n",
       "      <th>last_week</th>\n",
       "      <th>peak_rank</th>\n",
       "      <th>weeks_on_board</th>\n",
       "      <th>month</th>\n",
       "      <th>year</th>\n",
       "      <th>time_to_top_1</th>\n",
       "    </tr>\n",
       "  </thead>\n",
       "  <tbody>\n",
       "    <tr>\n",
       "      <th>1130</th>\n",
       "      <td>29542</td>\n",
       "      <td>Poor Little Fool</td>\n",
       "      <td>Ricky Nelson</td>\n",
       "      <td>1958-08-04</td>\n",
       "      <td>1</td>\n",
       "      <td>0</td>\n",
       "      <td>1</td>\n",
       "      <td>1</td>\n",
       "      <td>8</td>\n",
       "      <td>1958</td>\n",
       "      <td>0 days</td>\n",
       "    </tr>\n",
       "    <tr>\n",
       "      <th>36</th>\n",
       "      <td>893</td>\n",
       "      <td>Toosie Slide</td>\n",
       "      <td>Drake</td>\n",
       "      <td>2020-04-18</td>\n",
       "      <td>1</td>\n",
       "      <td>0</td>\n",
       "      <td>1</td>\n",
       "      <td>1</td>\n",
       "      <td>4</td>\n",
       "      <td>2020</td>\n",
       "      <td>0 days</td>\n",
       "    </tr>\n",
       "    <tr>\n",
       "      <th>37</th>\n",
       "      <td>933</td>\n",
       "      <td>The Scotts</td>\n",
       "      <td>THE SCOTTS, Travis Scott &amp; Kid Cudi</td>\n",
       "      <td>2020-05-09</td>\n",
       "      <td>1</td>\n",
       "      <td>0</td>\n",
       "      <td>1</td>\n",
       "      <td>1</td>\n",
       "      <td>5</td>\n",
       "      <td>2020</td>\n",
       "      <td>0 days</td>\n",
       "    </tr>\n",
       "    <tr>\n",
       "      <th>38</th>\n",
       "      <td>966</td>\n",
       "      <td>Trollz</td>\n",
       "      <td>6ix9ine &amp; Nicki Minaj</td>\n",
       "      <td>2020-06-27</td>\n",
       "      <td>1</td>\n",
       "      <td>0</td>\n",
       "      <td>1</td>\n",
       "      <td>1</td>\n",
       "      <td>6</td>\n",
       "      <td>2020</td>\n",
       "      <td>0 days</td>\n",
       "    </tr>\n",
       "    <tr>\n",
       "      <th>308</th>\n",
       "      <td>9428</td>\n",
       "      <td>Doo Wop (That Thing)</td>\n",
       "      <td>Lauryn Hill</td>\n",
       "      <td>1998-11-14</td>\n",
       "      <td>1</td>\n",
       "      <td>0</td>\n",
       "      <td>1</td>\n",
       "      <td>1</td>\n",
       "      <td>11</td>\n",
       "      <td>1998</td>\n",
       "      <td>0 days</td>\n",
       "    </tr>\n",
       "    <tr>\n",
       "      <th>...</th>\n",
       "      <td>...</td>\n",
       "      <td>...</td>\n",
       "      <td>...</td>\n",
       "      <td>...</td>\n",
       "      <td>...</td>\n",
       "      <td>...</td>\n",
       "      <td>...</td>\n",
       "      <td>...</td>\n",
       "      <td>...</td>\n",
       "      <td>...</td>\n",
       "      <td>...</td>\n",
       "    </tr>\n",
       "    <tr>\n",
       "      <th>334</th>\n",
       "      <td>10153</td>\n",
       "      <td>Macarena (Bayside Boys Mix)</td>\n",
       "      <td>Los Del Rio</td>\n",
       "      <td>1996-08-03</td>\n",
       "      <td>1</td>\n",
       "      <td>4</td>\n",
       "      <td>1</td>\n",
       "      <td>33</td>\n",
       "      <td>8</td>\n",
       "      <td>1996</td>\n",
       "      <td>336 days</td>\n",
       "    </tr>\n",
       "    <tr>\n",
       "      <th>140</th>\n",
       "      <td>4909</td>\n",
       "      <td>Last Friday Night (T.G.I.F.)</td>\n",
       "      <td>Katy Perry</td>\n",
       "      <td>2011-08-27</td>\n",
       "      <td>1</td>\n",
       "      <td>2</td>\n",
       "      <td>1</td>\n",
       "      <td>12</td>\n",
       "      <td>8</td>\n",
       "      <td>2011</td>\n",
       "      <td>350 days</td>\n",
       "    </tr>\n",
       "    <tr>\n",
       "      <th>471</th>\n",
       "      <td>12983</td>\n",
       "      <td>Red Red Wine</td>\n",
       "      <td>UB40</td>\n",
       "      <td>1988-10-15</td>\n",
       "      <td>1</td>\n",
       "      <td>2</td>\n",
       "      <td>1</td>\n",
       "      <td>25</td>\n",
       "      <td>10</td>\n",
       "      <td>1988</td>\n",
       "      <td>1722 days</td>\n",
       "    </tr>\n",
       "    <tr>\n",
       "      <th>461</th>\n",
       "      <td>12900</td>\n",
       "      <td>When I'm With You</td>\n",
       "      <td>Sheriff</td>\n",
       "      <td>1989-02-04</td>\n",
       "      <td>1</td>\n",
       "      <td>2</td>\n",
       "      <td>1</td>\n",
       "      <td>18</td>\n",
       "      <td>2</td>\n",
       "      <td>1989</td>\n",
       "      <td>2093 days</td>\n",
       "    </tr>\n",
       "    <tr>\n",
       "      <th>25</th>\n",
       "      <td>623</td>\n",
       "      <td>All I Want For Christmas Is You</td>\n",
       "      <td>Mariah Carey</td>\n",
       "      <td>2019-12-21</td>\n",
       "      <td>1</td>\n",
       "      <td>3</td>\n",
       "      <td>1</td>\n",
       "      <td>35</td>\n",
       "      <td>12</td>\n",
       "      <td>2019</td>\n",
       "      <td>7287 days</td>\n",
       "    </tr>\n",
       "  </tbody>\n",
       "</table>\n",
       "<p>1131 rows × 11 columns</p>\n",
       "</div>"
      ],
      "text/plain": [
       "      song_ID                             song  \\\n",
       "1130    29542                 Poor Little Fool   \n",
       "36        893                     Toosie Slide   \n",
       "37        933                       The Scotts   \n",
       "38        966                           Trollz   \n",
       "308      9428             Doo Wop (That Thing)   \n",
       "...       ...                              ...   \n",
       "334     10153      Macarena (Bayside Boys Mix)   \n",
       "140      4909     Last Friday Night (T.G.I.F.)   \n",
       "471     12983                     Red Red Wine   \n",
       "461     12900                When I'm With You   \n",
       "25        623  All I Want For Christmas Is You   \n",
       "\n",
       "                                   artist       date  rank  last_week  \\\n",
       "1130                         Ricky Nelson 1958-08-04     1          0   \n",
       "36                                  Drake 2020-04-18     1          0   \n",
       "37    THE SCOTTS, Travis Scott & Kid Cudi 2020-05-09     1          0   \n",
       "38                  6ix9ine & Nicki Minaj 2020-06-27     1          0   \n",
       "308                           Lauryn Hill 1998-11-14     1          0   \n",
       "...                                   ...        ...   ...        ...   \n",
       "334                           Los Del Rio 1996-08-03     1          4   \n",
       "140                            Katy Perry 2011-08-27     1          2   \n",
       "471                                  UB40 1988-10-15     1          2   \n",
       "461                               Sheriff 1989-02-04     1          2   \n",
       "25                           Mariah Carey 2019-12-21     1          3   \n",
       "\n",
       "      peak_rank  weeks_on_board  month  year time_to_top_1  \n",
       "1130          1               1      8  1958        0 days  \n",
       "36            1               1      4  2020        0 days  \n",
       "37            1               1      5  2020        0 days  \n",
       "38            1               1      6  2020        0 days  \n",
       "308           1               1     11  1998        0 days  \n",
       "...         ...             ...    ...   ...           ...  \n",
       "334           1              33      8  1996      336 days  \n",
       "140           1              12      8  2011      350 days  \n",
       "471           1              25     10  1988     1722 days  \n",
       "461           1              18      2  1989     2093 days  \n",
       "25            1              35     12  2019     7287 days  \n",
       "\n",
       "[1131 rows x 11 columns]"
      ]
     },
     "execution_count": 34,
     "metadata": {},
     "output_type": "execute_result"
    }
   ],
   "source": [
    "first_top_1"
   ]
  },
  {
   "cell_type": "markdown",
   "id": "e5f832e5",
   "metadata": {},
   "source": [
    "Để phân tích thêm, ta có thể tính ra số ngày trung bình để 1 bài hát top 1 lên được top 1."
   ]
  },
  {
   "cell_type": "code",
   "execution_count": 35,
   "id": "ee65c499",
   "metadata": {},
   "outputs": [
    {
     "name": "stdout",
     "output_type": "stream",
     "text": [
      "Mean = 67.34748010610079\n"
     ]
    }
   ],
   "source": [
    "int_first_top_1 = (first_top_1['time_to_top_1'] / np.timedelta64(1, 'D')).astype(int)\n",
    "print(\"Mean = \" + str(int_first_top_1.agg('mean')))"
   ]
  },
  {
   "cell_type": "markdown",
   "id": "a45b2bf4",
   "metadata": {},
   "source": [
    "Như vậy, cần khoảng 2 tháng để trung bình 1 bài hát vào top 1 (Chỉ xét các bài hát đã lọt vào top 1)."
   ]
  },
  {
   "cell_type": "markdown",
   "id": "31c00cef",
   "metadata": {},
   "source": [
    "##### **Nhận xét**:\n",
    "Thông qua việc trả lời câu hỏi trên, ta thấy một vài điểm thú vị với các bài hát trong BXH:\n",
    "- Có rất nhiều bài hát nổi lên một cách nhanh chóng, chỉ cần một tuần để đứng đầu bảng xếp hạng.\n",
    "- Có một vài bài hát được sáng tác từ lâu nhưng lại trở nên rất nổi tiếng sau một thời gian dài. Ví dụ với bài hát All I Want For Christmas Is You leo lên top 1 BXH sau gần 20 năm kể từ lần đầu tiên lọt vào BXH. Ta có thể dễ dàng giải thích điều này khi thời điểm leo lên top 1 của nó là vào dịp Noel - trùng với chủ đề của bài hát."
   ]
  },
  {
   "cell_type": "markdown",
   "id": "25c58071",
   "metadata": {},
   "source": [
    "### Nhìn lại quá trình làm đồ án"
   ]
  },
  {
   "cell_type": "markdown",
   "id": "0f0e75f6",
   "metadata": {},
   "source": [
    "#### Việt"
   ]
  },
  {
   "cell_type": "markdown",
   "id": "596fc4ec",
   "metadata": {},
   "source": [
    "##### Khó khăn:\n",
    "- Khó khăn trong việc tìm kiếm dataset phù hợp\n",
    "- Khó khăn trong việc merge code lại với nhau vì notebook không giống các file code bình thường\n",
    "\n",
    "##### Học hỏi:\n",
    "- Học hỏi được cách quản lý bài làm bằng git\n",
    "- Biết thêm được nhiều hàm mới trong các thư viện như pandas, numpy và việc sử dụng chúng vào bài làm\n",
    "- Trau dồi khả năng phân tích và xử lý vấn đề khi tự đặt ra các câu hỏi để trả lời"
   ]
  },
  {
   "cell_type": "markdown",
   "id": "1870de33",
   "metadata": {},
   "source": [
    "#### Khoa"
   ]
  },
  {
   "cell_type": "markdown",
   "id": "40632c64",
   "metadata": {},
   "source": [
    "##### Khó khăn:\n",
    "- Gặp các khó khăn trong việc chọn dữ liệu khi có rất nhiều tập dữ liệu khác nhau.\n",
    "- Khó khăn trong việc đánh giá các câu hỏi đã tốt hay chưa.\n",
    "\n",
    "##### Học hỏi:\n",
    "- Học được thêm nhiều hàm, cách sử dụng pandas\n",
    "- Học được cách trình bày bằng Notebook\n",
    "- Học được cách sử dụng Git, cách làm việc nhóm"
   ]
  },
  {
   "cell_type": "markdown",
   "id": "3e111a5b",
   "metadata": {},
   "source": [
    "Nếu còn thời gian, nhóm sẽ:\n",
    "- Đánh giá lại các câu hỏi và có thể điều chỉnh để tăng chất lượng câu hỏi.\n",
    "- Refactor lại code\n",
    "- Trình bày notebook đẹp hơn, chỉnh chu hơn."
   ]
  },
  {
   "cell_type": "markdown",
   "id": "9329da31",
   "metadata": {},
   "source": [
    "### Tài liệu tham khảo"
   ]
  },
  {
   "cell_type": "markdown",
   "id": "43424099",
   "metadata": {},
   "source": [
    "- [Billboard \"The Hot 100\" Songs](https://www.kaggle.com/dhruvildave/billboard-the-hot-100-songs)\n",
    "- [Pandas documentation](https://pandas.pydata.org/docs/)\n",
    "- [StackOverFlow](https://stackoverflow.com/)\n",
    "- [GeeksForGeeks](https://www.geeksforgeeks.org/python-pandas-dataframe-sort_values-set-1/)"
   ]
  }
 ],
 "metadata": {
  "kernelspec": {
   "display_name": "Python 3",
   "language": "python",
   "name": "python3"
  },
  "language_info": {
   "codemirror_mode": {
    "name": "ipython",
    "version": 3
   },
   "file_extension": ".py",
   "mimetype": "text/x-python",
   "name": "python",
   "nbconvert_exporter": "python",
   "pygments_lexer": "ipython3",
   "version": "3.8.8"
  },
  "toc": {
   "base_numbering": 1,
   "nav_menu": {},
   "number_sections": false,
   "sideBar": true,
   "skip_h1_title": false,
   "title_cell": "Table of Contents",
   "title_sidebar": "Contents",
   "toc_cell": true,
   "toc_position": {},
   "toc_section_display": true,
   "toc_window_display": false
  }
 },
 "nbformat": 4,
 "nbformat_minor": 5
}
