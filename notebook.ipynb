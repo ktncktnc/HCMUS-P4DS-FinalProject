{
 "cells": [
  {
   "cell_type": "code",
   "execution_count": 12,
   "id": "6552f16e",
   "metadata": {},
   "outputs": [
    {
     "data": {
      "text/plain": [
       "'C:\\\\Users\\\\vietx\\\\anaconda3\\\\python.exe'"
      ]
     },
     "execution_count": 12,
     "metadata": {},
     "output_type": "execute_result"
    }
   ],
   "source": [
    "import sys\n",
    "sys.executable"
   ]
  },
  {
   "cell_type": "code",
   "execution_count": 13,
   "id": "61dd9fc2",
   "metadata": {},
   "outputs": [],
   "source": [
    "import pandas as pd\n",
    "import matplotlib.pyplot as plt\n",
    "import numpy as np"
   ]
  },
  {
   "cell_type": "markdown",
   "id": "45f97664",
   "metadata": {},
   "source": [
    "# Khám phá dữ liệu\n",
    "\n",
    "### Đọc dữ liệu từ file csv\n"
   ]
  },
  {
   "cell_type": "code",
   "execution_count": 14,
   "id": "5affefc0",
   "metadata": {},
   "outputs": [
    {
     "data": {
      "text/html": [
       "<div>\n",
       "<style scoped>\n",
       "    .dataframe tbody tr th:only-of-type {\n",
       "        vertical-align: middle;\n",
       "    }\n",
       "\n",
       "    .dataframe tbody tr th {\n",
       "        vertical-align: top;\n",
       "    }\n",
       "\n",
       "    .dataframe thead th {\n",
       "        text-align: right;\n",
       "    }\n",
       "</style>\n",
       "<table border=\"1\" class=\"dataframe\">\n",
       "  <thead>\n",
       "    <tr style=\"text-align: right;\">\n",
       "      <th></th>\n",
       "      <th>date</th>\n",
       "      <th>rank</th>\n",
       "      <th>song</th>\n",
       "      <th>artist</th>\n",
       "      <th>last-week</th>\n",
       "      <th>peak-rank</th>\n",
       "      <th>weeks-on-board</th>\n",
       "    </tr>\n",
       "  </thead>\n",
       "  <tbody>\n",
       "    <tr>\n",
       "      <th>0</th>\n",
       "      <td>2021-11-06</td>\n",
       "      <td>1</td>\n",
       "      <td>Easy On Me</td>\n",
       "      <td>Adele</td>\n",
       "      <td>1.0</td>\n",
       "      <td>1</td>\n",
       "      <td>3</td>\n",
       "    </tr>\n",
       "    <tr>\n",
       "      <th>1</th>\n",
       "      <td>2021-11-06</td>\n",
       "      <td>2</td>\n",
       "      <td>Stay</td>\n",
       "      <td>The Kid LAROI &amp; Justin Bieber</td>\n",
       "      <td>2.0</td>\n",
       "      <td>1</td>\n",
       "      <td>16</td>\n",
       "    </tr>\n",
       "    <tr>\n",
       "      <th>2</th>\n",
       "      <td>2021-11-06</td>\n",
       "      <td>3</td>\n",
       "      <td>Industry Baby</td>\n",
       "      <td>Lil Nas X &amp; Jack Harlow</td>\n",
       "      <td>3.0</td>\n",
       "      <td>1</td>\n",
       "      <td>14</td>\n",
       "    </tr>\n",
       "    <tr>\n",
       "      <th>3</th>\n",
       "      <td>2021-11-06</td>\n",
       "      <td>4</td>\n",
       "      <td>Fancy Like</td>\n",
       "      <td>Walker Hayes</td>\n",
       "      <td>4.0</td>\n",
       "      <td>3</td>\n",
       "      <td>19</td>\n",
       "    </tr>\n",
       "    <tr>\n",
       "      <th>4</th>\n",
       "      <td>2021-11-06</td>\n",
       "      <td>5</td>\n",
       "      <td>Bad Habits</td>\n",
       "      <td>Ed Sheeran</td>\n",
       "      <td>5.0</td>\n",
       "      <td>2</td>\n",
       "      <td>18</td>\n",
       "    </tr>\n",
       "  </tbody>\n",
       "</table>\n",
       "</div>"
      ],
      "text/plain": [
       "         date  rank           song                         artist  last-week  \\\n",
       "0  2021-11-06     1     Easy On Me                          Adele        1.0   \n",
       "1  2021-11-06     2           Stay  The Kid LAROI & Justin Bieber        2.0   \n",
       "2  2021-11-06     3  Industry Baby        Lil Nas X & Jack Harlow        3.0   \n",
       "3  2021-11-06     4     Fancy Like                   Walker Hayes        4.0   \n",
       "4  2021-11-06     5     Bad Habits                     Ed Sheeran        5.0   \n",
       "\n",
       "   peak-rank  weeks-on-board  \n",
       "0          1               3  \n",
       "1          1              16  \n",
       "2          1              14  \n",
       "3          3              19  \n",
       "4          2              18  "
      ]
     },
     "execution_count": 14,
     "metadata": {},
     "output_type": "execute_result"
    }
   ],
   "source": [
    "billboards = pd.read_csv('charts.csv')\n",
    "billboards.head()"
   ]
  },
  {
   "cell_type": "markdown",
   "id": "15e392cf",
   "metadata": {},
   "source": [
    "### Dữ liệu có bao nhiêu dòng và bao nhiêu cột?"
   ]
  },
  {
   "cell_type": "code",
   "execution_count": 15,
   "id": "87f4c061",
   "metadata": {},
   "outputs": [
    {
     "data": {
      "text/plain": [
       "(330087, 7)"
      ]
     },
     "execution_count": 15,
     "metadata": {},
     "output_type": "execute_result"
    }
   ],
   "source": [
    "num_rows = len(billboards)\n",
    "num_cols = len(billboards.columns)\n",
    "\n",
    "num_rows, num_cols"
   ]
  },
  {
   "cell_type": "markdown",
   "id": "8cae63ab",
   "metadata": {},
   "source": [
    "### Mỗi dòng có ý nghĩa gì? Có vấn đề các dòng có ý nghĩa khác nhau không?\n",
    "- Mỗi dòng của dữ liệu là thông tin bài hát và các thông số xếp hạng của bài hát trong bảng xếp hạng trong một tuần\n",
    "- Dựa theo dữ liệu ta thấy rằng các dòng không có ý nghĩa khác nhau"
   ]
  },
  {
   "cell_type": "markdown",
   "id": "315bb9b5",
   "metadata": {},
   "source": [
    "### Dữ liệu có các dòng bị lặp không?\n"
   ]
  },
  {
   "cell_type": "code",
   "execution_count": 16,
   "id": "926dab74",
   "metadata": {},
   "outputs": [
    {
     "data": {
      "text/plain": [
       "False"
      ]
     },
     "execution_count": 16,
     "metadata": {},
     "output_type": "execute_result"
    }
   ],
   "source": [
    "duplicated = np.sum(billboards.duplicated()) != 0\n",
    "duplicated"
   ]
  },
  {
   "cell_type": "markdown",
   "id": "82248c35",
   "metadata": {},
   "source": [
    "### Mỗi cột dữ liệu có ý nghĩa:\n",
    "- Date: Ngày bảng xếp hạng tuần của Billboard được công bố\n",
    "- Rank: Thứ hạng của bài hát trên bảng xếp hạng tuần Billboard được công bố vào ngày ở cột đầu tiên.\n",
    "- Song: Tên bài hát được xếp hạng\n",
    "- Artist: Ca sỹ hát bài hát\n",
    "- Last-week: Thứ hạng của bài hát đó trên bảng xếp hạng tuần trước của Billboard.\n",
    "- Peak-rank: Thứ hạng cao nhất của bài hát đó trên tất cả các bảng xếp hạng tuần của Billboard.\n",
    "- Weeks-on-board: ...\n"
   ]
  },
  {
   "cell_type": "markdown",
   "id": "22edf72d",
   "metadata": {},
   "source": [
    "### Kiểu dữ liệu của mỗi cột"
   ]
  },
  {
   "cell_type": "code",
   "execution_count": 18,
   "id": "d9edac7d",
   "metadata": {},
   "outputs": [
    {
     "name": "stdout",
     "output_type": "stream",
     "text": [
      "date               object\n",
      "rank                int64\n",
      "song               object\n",
      "artist             object\n",
      "last-week         float64\n",
      "peak-rank           int64\n",
      "weeks-on-board      int64\n",
      "dtype: object\n"
     ]
    }
   ],
   "source": [
    "col_dtypes = billboards.dtypes\n",
    "\n",
    "col_dtypes"
   ]
  },
  {
   "cell_type": "markdown",
   "id": "347b7993",
   "metadata": {},
   "source": [
    "Các cột có kiểu dữ liệu chưa phù hợp:\n",
    "- Cột date đang ở dạng object, chưa phù hợp để xử lý nên ta cần chuyển về kiểu datetime.\n",
    "- Cột last-week nên có dữ liệu là int thay vì float64.\n",
    "- Cột song & artist có kiểu là object nhưng có thể kiểu dữ liệu thật sự là string"
   ]
  },
  {
   "cell_type": "markdown",
   "id": "7d332639",
   "metadata": {},
   "source": [
    "# Tiền xử lý"
   ]
  },
  {
   "cell_type": "markdown",
   "id": "452201a3",
   "metadata": {},
   "source": [
    "### Chuyển dtype của cột \"Date\" sang datetime "
   ]
  },
  {
   "cell_type": "code",
   "execution_count": 22,
   "id": "d7fee53b",
   "metadata": {},
   "outputs": [],
   "source": [
    "billboards['date'] = pd.to_datetime(billboards['date'], format = '%Y-%m-%d')"
   ]
  },
  {
   "cell_type": "markdown",
   "id": "d44535d1",
   "metadata": {},
   "source": [
    "### Chuyển dtype của cột last-week sang int"
   ]
  },
  {
   "cell_type": "code",
   "execution_count": 23,
   "id": "9874dfab",
   "metadata": {},
   "outputs": [],
   "source": [
    "billboards['last-week'] = billboards['last-week'].replace(np.nan, 0).astype('int64')"
   ]
  },
  {
   "cell_type": "markdown",
   "id": "f47a4067",
   "metadata": {},
   "source": [
    "Ta thay thế các ô có giá trị nan bằng 0. Việc thay thế này là hợp lý vì không có thứ hạng 0 trên BXH. Khi đó, ta có thể ngầm hiểu khi cột last-week có giá trị là 0 thì bài hát đó lần đầu lọt vào BXH."
   ]
  },
  {
   "cell_type": "markdown",
   "id": "2ef0ccee",
   "metadata": {},
   "source": [
    "# Khám phá dữ liệu (tiếp tục)"
   ]
  },
  {
   "cell_type": "markdown",
   "id": "4909ab27",
   "metadata": {},
   "source": [
    "### Với mỗi cột có kiểu dữ liệu dạng số (numerical), các giá trị được phân bố như thế nào?"
   ]
  },
  {
   "cell_type": "code",
   "execution_count": 34,
   "id": "586d1f13",
   "metadata": {},
   "outputs": [
    {
     "data": {
      "text/html": [
       "<div>\n",
       "<style scoped>\n",
       "    .dataframe tbody tr th:only-of-type {\n",
       "        vertical-align: middle;\n",
       "    }\n",
       "\n",
       "    .dataframe tbody tr th {\n",
       "        vertical-align: top;\n",
       "    }\n",
       "\n",
       "    .dataframe thead th {\n",
       "        text-align: right;\n",
       "    }\n",
       "</style>\n",
       "<table border=\"1\" class=\"dataframe\">\n",
       "  <thead>\n",
       "    <tr style=\"text-align: right;\">\n",
       "      <th></th>\n",
       "      <th>date</th>\n",
       "      <th>rank</th>\n",
       "      <th>last-week</th>\n",
       "      <th>peak-rank</th>\n",
       "      <th>weeks-on-board</th>\n",
       "    </tr>\n",
       "  </thead>\n",
       "  <tbody>\n",
       "    <tr>\n",
       "      <th>min</th>\n",
       "      <td>1958-08-04 00:00:00</td>\n",
       "      <td>1.0</td>\n",
       "      <td>0.0</td>\n",
       "      <td>1.0</td>\n",
       "      <td>1.0</td>\n",
       "    </tr>\n",
       "    <tr>\n",
       "      <th>max</th>\n",
       "      <td>2021-11-06 00:00:00</td>\n",
       "      <td>100.0</td>\n",
       "      <td>100.0</td>\n",
       "      <td>100.0</td>\n",
       "      <td>90.0</td>\n",
       "    </tr>\n",
       "    <tr>\n",
       "      <th>missing_ratio</th>\n",
       "      <td>0.0</td>\n",
       "      <td>0.0</td>\n",
       "      <td>0.0</td>\n",
       "      <td>0.0</td>\n",
       "      <td>0.0</td>\n",
       "    </tr>\n",
       "  </tbody>\n",
       "</table>\n",
       "</div>"
      ],
      "text/plain": [
       "                              date   rank  last-week  peak-rank  \\\n",
       "min            1958-08-04 00:00:00    1.0        0.0        1.0   \n",
       "max            2021-11-06 00:00:00  100.0      100.0      100.0   \n",
       "missing_ratio                  0.0    0.0        0.0        0.0   \n",
       "\n",
       "               weeks-on-board  \n",
       "min                       1.0  \n",
       "max                      90.0  \n",
       "missing_ratio             0.0  "
      ]
     },
     "execution_count": 34,
     "metadata": {},
     "output_type": "execute_result"
    }
   ],
   "source": [
    "nume_cols = ['date', 'rank', 'last-week', 'peak-rank', 'weeks-on-board']\n",
    "\n",
    "def missing_ratio(col):\n",
    "    return col.isnull().sum() / len(col)\n",
    "\n",
    "nume_col_profiles_df = billboards.agg(['min', 'max', missing_ratio])[cols]\n",
    "\n",
    "nume_col_profiles_df"
   ]
  },
  {
   "cell_type": "markdown",
   "id": "af1235bb",
   "metadata": {},
   "source": [
    "Không có gì bất thường với các giá trị min, max, missing_ratio của các cột. Ta có thể kiểm chứng giá trị max của weeks-on-board bằng cách tìm trên google bài hát có mặt trên BXH Billboard 90 tuần. Sau khi tra cứu, ta thấy bài hát đó chính là \"Blinding Light\" và chính thức rời khỏi BXH vào tháng 9/2021. Khá hợp lý khi BXH của ta có tuần cuối cùng được thống kê vào tháng 11/2021."
   ]
  },
  {
   "cell_type": "markdown",
   "id": "803e8f7a",
   "metadata": {},
   "source": [
    "### Với mỗi cột có kiểu dữ liệu dạng phân loại (categorical),các giá trị được phân bố như thế nào?"
   ]
  },
  {
   "cell_type": "code",
   "execution_count": 35,
   "id": "9c8fbe5c",
   "metadata": {},
   "outputs": [
    {
     "data": {
      "text/html": [
       "<div>\n",
       "<style scoped>\n",
       "    .dataframe tbody tr th:only-of-type {\n",
       "        vertical-align: middle;\n",
       "    }\n",
       "\n",
       "    .dataframe tbody tr th {\n",
       "        vertical-align: top;\n",
       "    }\n",
       "\n",
       "    .dataframe thead th {\n",
       "        text-align: right;\n",
       "    }\n",
       "</style>\n",
       "<table border=\"1\" class=\"dataframe\">\n",
       "  <thead>\n",
       "    <tr style=\"text-align: right;\">\n",
       "      <th></th>\n",
       "      <th>artist</th>\n",
       "      <th>song</th>\n",
       "    </tr>\n",
       "  </thead>\n",
       "  <tbody>\n",
       "    <tr>\n",
       "      <th>missing_ratio</th>\n",
       "      <td>0.0</td>\n",
       "      <td>0.0</td>\n",
       "    </tr>\n",
       "    <tr>\n",
       "      <th>num_diff_vals</th>\n",
       "      <td>10205</td>\n",
       "      <td>24620</td>\n",
       "    </tr>\n",
       "    <tr>\n",
       "      <th>diff_vals</th>\n",
       "      <td>[Adele, The Kid LAROI &amp; Justin Bieber, Lil Nas...</td>\n",
       "      <td>[Easy On Me, Stay, Industry Baby, Fancy Like, ...</td>\n",
       "    </tr>\n",
       "  </tbody>\n",
       "</table>\n",
       "</div>"
      ],
      "text/plain": [
       "                                                          artist  \\\n",
       "missing_ratio                                                0.0   \n",
       "num_diff_vals                                              10205   \n",
       "diff_vals      [Adele, The Kid LAROI & Justin Bieber, Lil Nas...   \n",
       "\n",
       "                                                            song  \n",
       "missing_ratio                                                0.0  \n",
       "num_diff_vals                                              24620  \n",
       "diff_vals      [Easy On Me, Stay, Industry Baby, Fancy Like, ...  "
      ]
     },
     "execution_count": 35,
     "metadata": {},
     "output_type": "execute_result"
    }
   ],
   "source": [
    "cate_cols = ['artist', 'song']\n",
    "\n",
    "def num_diff_vals(col):\n",
    "    return col.nunique()\n",
    "\n",
    "def diff_vals(col):\n",
    "    return col[col.isna()==False].unique()\n",
    "\n",
    "cate_col_profiles_df = billboards.agg([missing_ratio, num_diff_vals, diff_vals])[cate_cols]\n",
    "\n",
    "cate_col_profiles_df"
   ]
  },
  {
   "cell_type": "markdown",
   "id": "3d85b10c",
   "metadata": {},
   "source": [
    "Ta thấy rằng không có gì quá bất thường. Mising ratio bằng 0 là hợp lý. Mặt khác, một ca sỹ có thể có nhiều bài hát nên việc số lượng bài hát nhiều hơn gấp hơn 2 lần so với số lượng ca sỹ là bình thường."
   ]
  }
 ],
 "metadata": {
  "kernelspec": {
   "display_name": "Python 3",
   "language": "python",
   "name": "python3"
  },
  "language_info": {
   "codemirror_mode": {
    "name": "ipython",
    "version": 3
   },
   "file_extension": ".py",
   "mimetype": "text/x-python",
   "name": "python",
   "nbconvert_exporter": "python",
   "pygments_lexer": "ipython3",
   "version": "3.8.8"
  }
 },
 "nbformat": 4,
 "nbformat_minor": 5
}
